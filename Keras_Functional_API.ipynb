{
  "nbformat": 4,
  "nbformat_minor": 0,
  "metadata": {
    "colab": {
      "provenance": [],
      "authorship_tag": "ABX9TyO5gFYlkSC+LesVjV/nnMAL",
      "include_colab_link": true
    },
    "kernelspec": {
      "name": "python3",
      "display_name": "Python 3"
    },
    "language_info": {
      "name": "python"
    }
  },
  "cells": [
    {
      "cell_type": "markdown",
      "metadata": {
        "id": "view-in-github",
        "colab_type": "text"
      },
      "source": [
        "<a href=\"https://colab.research.google.com/github/sainisatish/DeepLearningFromScratch/blob/main/Keras_Functional_API.ipynb\" target=\"_parent\"><img src=\"https://colab.research.google.com/assets/colab-badge.svg\" alt=\"Open In Colab\"/></a>"
      ]
    },
    {
      "cell_type": "markdown",
      "source": [
        "Building Multi input and Multi output model using Functional APi."
      ],
      "metadata": {
        "id": "aY2GiTZjZgMd"
      }
    },
    {
      "cell_type": "code",
      "execution_count": 1,
      "metadata": {
        "id": "n_Bf-XSdX_Hl"
      },
      "outputs": [],
      "source": [
        "# generating random dummy data"
      ]
    },
    {
      "cell_type": "code",
      "source": [
        "import numpy as np"
      ],
      "metadata": {
        "id": "JmEPgk5SZtrs"
      },
      "execution_count": 2,
      "outputs": []
    },
    {
      "cell_type": "code",
      "source": [
        "#Model will predict which department will handle the ticket with the priority.\n",
        "#The model have 3 input and 2 output\n",
        "#Inputs: 1-title of the ticket,2-text body of the ticket,3-any tag information\n",
        "#Outputs:1-Priority and 2-department"
      ],
      "metadata": {
        "id": "3H7VtqLSafsM"
      },
      "execution_count": null,
      "outputs": []
    },
    {
      "cell_type": "markdown",
      "source": [
        "1-Input DATA"
      ],
      "metadata": {
        "id": "FsP4Ukavcsr6"
      }
    },
    {
      "cell_type": "code",
      "source": [
        "num_tags = 100\n",
        "num_sample = 1280\n",
        "vocablury_size = 10000\n",
        "num_departments=4\n",
        "\n",
        "title_data = np.random.randint(0,2, size= (num_sample,vocablury_size))\n",
        "ticket_body = np.random.randint(0,2,size=(num_sample,vocablury_size))\n",
        "tag_info = np.random.randint(0,2,size=(num_sample,num_tags))\n",
        "\n",
        "priority_data = np.random.random(size=(num_sample,1))\n",
        "department_data = np.random.randint(0,2,size=(num_sample,num_departments))"
      ],
      "metadata": {
        "id": "h-TfrRmzZwLF"
      },
      "execution_count": 33,
      "outputs": []
    },
    {
      "cell_type": "markdown",
      "source": [
        "2-Build Model Architecture"
      ],
      "metadata": {
        "id": "tV2SB3T8cxpQ"
      }
    },
    {
      "cell_type": "code",
      "source": [
        "from tensorflow.keras import layers\n",
        "from tensorflow import keras"
      ],
      "metadata": {
        "id": "SQE49_OXfN_R"
      },
      "execution_count": 16,
      "outputs": []
    },
    {
      "cell_type": "code",
      "source": [
        "title = keras.Input(shape=(vocablury_size,),name=\"title\")\n",
        "title_body = keras.Input(shape=(vocablury_size,),name=\"text_body\")\n",
        "tags = keras.Input(shape=(num_tags,),name=\"tags\")\n",
        "\n",
        "features = layers.Concatenate()([title,title_body,tags])\n",
        "features = layers.Dense(64,activation='relu')(features)\n",
        "\n",
        "priority = layers.Dense(1,activation='sigmoid',name= 'priority')(features)\n",
        "department = layers.Dense(num_departments,activation='softmax',name='department')(features)\n",
        "\n",
        "model = keras.Model(inputs=[title,title_body,tags],outputs=[priority,department])\n",
        "\n"
      ],
      "metadata": {
        "id": "1lA02BsMZ8k2"
      },
      "execution_count": 28,
      "outputs": []
    },
    {
      "cell_type": "code",
      "source": [
        "model.summary()"
      ],
      "metadata": {
        "colab": {
          "base_uri": "https://localhost:8080/"
        },
        "id": "FTOW9qDYcOd8",
        "outputId": "0fad391f-ead5-429b-f18b-4fcbd9dcb2e0"
      },
      "execution_count": 29,
      "outputs": [
        {
          "output_type": "stream",
          "name": "stdout",
          "text": [
            "Model: \"model_2\"\n",
            "__________________________________________________________________________________________________\n",
            " Layer (type)                   Output Shape         Param #     Connected to                     \n",
            "==================================================================================================\n",
            " title (InputLayer)             [(None, 10000)]      0           []                               \n",
            "                                                                                                  \n",
            " text_body (InputLayer)         [(None, 10000)]      0           []                               \n",
            "                                                                                                  \n",
            " tags (InputLayer)              [(None, 100)]        0           []                               \n",
            "                                                                                                  \n",
            " concatenate_3 (Concatenate)    (None, 20100)        0           ['title[0][0]',                  \n",
            "                                                                  'text_body[0][0]',              \n",
            "                                                                  'tags[0][0]']                   \n",
            "                                                                                                  \n",
            " dense_5 (Dense)                (None, 64)           1286464     ['concatenate_3[0][0]']          \n",
            "                                                                                                  \n",
            " priority (Dense)               (None, 1)            65          ['dense_5[0][0]']                \n",
            "                                                                                                  \n",
            " department (Dense)             (None, 4)            260         ['dense_5[0][0]']                \n",
            "                                                                                                  \n",
            "==================================================================================================\n",
            "Total params: 1,286,789\n",
            "Trainable params: 1,286,789\n",
            "Non-trainable params: 0\n",
            "__________________________________________________________________________________________________\n"
          ]
        }
      ]
    },
    {
      "cell_type": "markdown",
      "source": [
        "3-Train the model\n"
      ],
      "metadata": {
        "id": "xlPbBgc7gieT"
      }
    },
    {
      "cell_type": "code",
      "source": [
        "model.compile(optimizer='rmsprop',\n",
        "              loss=['mean_squared_error','categorical_crossentropy'],\n",
        "              metrics=['mean_absolute_error','accuracy'])\n",
        "\n",
        "model.fit( [title_data,ticket_body,tag_info] ,[priority_data,department_data],epochs=1)"
      ],
      "metadata": {
        "colab": {
          "base_uri": "https://localhost:8080/"
        },
        "id": "CUgf6fhBgMaw",
        "outputId": "51d32d70-e4fb-4bec-dcae-69191c7fe1bc"
      },
      "execution_count": 34,
      "outputs": [
        {
          "output_type": "stream",
          "name": "stdout",
          "text": [
            "40/40 [==============================] - 2s 18ms/step - loss: 40.3147 - priority_loss: 0.3350 - department_loss: 39.9797 - priority_mean_absolute_error: 0.5025 - priority_accuracy: 0.0000e+00 - department_mean_absolute_error: 0.5006 - department_accuracy: 0.2367\n"
          ]
        },
        {
          "output_type": "execute_result",
          "data": {
            "text/plain": [
              "<keras.callbacks.History at 0x7f43755c10a0>"
            ]
          },
          "metadata": {},
          "execution_count": 34
        }
      ]
    },
    {
      "cell_type": "code",
      "source": [],
      "metadata": {
        "id": "RtDNgPGlhgfj"
      },
      "execution_count": null,
      "outputs": []
    }
  ]
}