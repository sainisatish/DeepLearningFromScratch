{
  "nbformat": 4,
  "nbformat_minor": 0,
  "metadata": {
    "colab": {
      "provenance": [],
      "authorship_tag": "ABX9TyNHAAlTCBtMIVMYNDHom58v",
      "include_colab_link": true
    },
    "kernelspec": {
      "name": "python3",
      "display_name": "Python 3"
    },
    "language_info": {
      "name": "python"
    }
  },
  "cells": [
    {
      "cell_type": "markdown",
      "metadata": {
        "id": "view-in-github",
        "colab_type": "text"
      },
      "source": [
        "<a href=\"https://colab.research.google.com/github/sainisatish/DeepLearningFromScratch/blob/main/Cat_And_Dog_classifier.ipynb\" target=\"_parent\"><img src=\"https://colab.research.google.com/assets/colab-badge.svg\" alt=\"Open In Colab\"/></a>"
      ]
    },
    {
      "cell_type": "code",
      "execution_count": 1,
      "metadata": {
        "id": "v6WCy5o10UD0"
      },
      "outputs": [],
      "source": [
        "from google.colab import files"
      ]
    },
    {
      "cell_type": "code",
      "source": [
        "files.upload()"
      ],
      "metadata": {
        "colab": {
          "base_uri": "https://localhost:8080/",
          "height": 90
        },
        "id": "wY4uzgFD1_N6",
        "outputId": "bdf734a4-f35f-42f0-a4b2-7536174fd562"
      },
      "execution_count": 2,
      "outputs": [
        {
          "output_type": "display_data",
          "data": {
            "text/plain": [
              "<IPython.core.display.HTML object>"
            ],
            "text/html": [
              "\n",
              "     <input type=\"file\" id=\"files-5e5e4b43-ceae-4c1a-845a-c570463c2941\" name=\"files[]\" multiple disabled\n",
              "        style=\"border:none\" />\n",
              "     <output id=\"result-5e5e4b43-ceae-4c1a-845a-c570463c2941\">\n",
              "      Upload widget is only available when the cell has been executed in the\n",
              "      current browser session. Please rerun this cell to enable.\n",
              "      </output>\n",
              "      <script>// Copyright 2017 Google LLC\n",
              "//\n",
              "// Licensed under the Apache License, Version 2.0 (the \"License\");\n",
              "// you may not use this file except in compliance with the License.\n",
              "// You may obtain a copy of the License at\n",
              "//\n",
              "//      http://www.apache.org/licenses/LICENSE-2.0\n",
              "//\n",
              "// Unless required by applicable law or agreed to in writing, software\n",
              "// distributed under the License is distributed on an \"AS IS\" BASIS,\n",
              "// WITHOUT WARRANTIES OR CONDITIONS OF ANY KIND, either express or implied.\n",
              "// See the License for the specific language governing permissions and\n",
              "// limitations under the License.\n",
              "\n",
              "/**\n",
              " * @fileoverview Helpers for google.colab Python module.\n",
              " */\n",
              "(function(scope) {\n",
              "function span(text, styleAttributes = {}) {\n",
              "  const element = document.createElement('span');\n",
              "  element.textContent = text;\n",
              "  for (const key of Object.keys(styleAttributes)) {\n",
              "    element.style[key] = styleAttributes[key];\n",
              "  }\n",
              "  return element;\n",
              "}\n",
              "\n",
              "// Max number of bytes which will be uploaded at a time.\n",
              "const MAX_PAYLOAD_SIZE = 100 * 1024;\n",
              "\n",
              "function _uploadFiles(inputId, outputId) {\n",
              "  const steps = uploadFilesStep(inputId, outputId);\n",
              "  const outputElement = document.getElementById(outputId);\n",
              "  // Cache steps on the outputElement to make it available for the next call\n",
              "  // to uploadFilesContinue from Python.\n",
              "  outputElement.steps = steps;\n",
              "\n",
              "  return _uploadFilesContinue(outputId);\n",
              "}\n",
              "\n",
              "// This is roughly an async generator (not supported in the browser yet),\n",
              "// where there are multiple asynchronous steps and the Python side is going\n",
              "// to poll for completion of each step.\n",
              "// This uses a Promise to block the python side on completion of each step,\n",
              "// then passes the result of the previous step as the input to the next step.\n",
              "function _uploadFilesContinue(outputId) {\n",
              "  const outputElement = document.getElementById(outputId);\n",
              "  const steps = outputElement.steps;\n",
              "\n",
              "  const next = steps.next(outputElement.lastPromiseValue);\n",
              "  return Promise.resolve(next.value.promise).then((value) => {\n",
              "    // Cache the last promise value to make it available to the next\n",
              "    // step of the generator.\n",
              "    outputElement.lastPromiseValue = value;\n",
              "    return next.value.response;\n",
              "  });\n",
              "}\n",
              "\n",
              "/**\n",
              " * Generator function which is called between each async step of the upload\n",
              " * process.\n",
              " * @param {string} inputId Element ID of the input file picker element.\n",
              " * @param {string} outputId Element ID of the output display.\n",
              " * @return {!Iterable<!Object>} Iterable of next steps.\n",
              " */\n",
              "function* uploadFilesStep(inputId, outputId) {\n",
              "  const inputElement = document.getElementById(inputId);\n",
              "  inputElement.disabled = false;\n",
              "\n",
              "  const outputElement = document.getElementById(outputId);\n",
              "  outputElement.innerHTML = '';\n",
              "\n",
              "  const pickedPromise = new Promise((resolve) => {\n",
              "    inputElement.addEventListener('change', (e) => {\n",
              "      resolve(e.target.files);\n",
              "    });\n",
              "  });\n",
              "\n",
              "  const cancel = document.createElement('button');\n",
              "  inputElement.parentElement.appendChild(cancel);\n",
              "  cancel.textContent = 'Cancel upload';\n",
              "  const cancelPromise = new Promise((resolve) => {\n",
              "    cancel.onclick = () => {\n",
              "      resolve(null);\n",
              "    };\n",
              "  });\n",
              "\n",
              "  // Wait for the user to pick the files.\n",
              "  const files = yield {\n",
              "    promise: Promise.race([pickedPromise, cancelPromise]),\n",
              "    response: {\n",
              "      action: 'starting',\n",
              "    }\n",
              "  };\n",
              "\n",
              "  cancel.remove();\n",
              "\n",
              "  // Disable the input element since further picks are not allowed.\n",
              "  inputElement.disabled = true;\n",
              "\n",
              "  if (!files) {\n",
              "    return {\n",
              "      response: {\n",
              "        action: 'complete',\n",
              "      }\n",
              "    };\n",
              "  }\n",
              "\n",
              "  for (const file of files) {\n",
              "    const li = document.createElement('li');\n",
              "    li.append(span(file.name, {fontWeight: 'bold'}));\n",
              "    li.append(span(\n",
              "        `(${file.type || 'n/a'}) - ${file.size} bytes, ` +\n",
              "        `last modified: ${\n",
              "            file.lastModifiedDate ? file.lastModifiedDate.toLocaleDateString() :\n",
              "                                    'n/a'} - `));\n",
              "    const percent = span('0% done');\n",
              "    li.appendChild(percent);\n",
              "\n",
              "    outputElement.appendChild(li);\n",
              "\n",
              "    const fileDataPromise = new Promise((resolve) => {\n",
              "      const reader = new FileReader();\n",
              "      reader.onload = (e) => {\n",
              "        resolve(e.target.result);\n",
              "      };\n",
              "      reader.readAsArrayBuffer(file);\n",
              "    });\n",
              "    // Wait for the data to be ready.\n",
              "    let fileData = yield {\n",
              "      promise: fileDataPromise,\n",
              "      response: {\n",
              "        action: 'continue',\n",
              "      }\n",
              "    };\n",
              "\n",
              "    // Use a chunked sending to avoid message size limits. See b/62115660.\n",
              "    let position = 0;\n",
              "    do {\n",
              "      const length = Math.min(fileData.byteLength - position, MAX_PAYLOAD_SIZE);\n",
              "      const chunk = new Uint8Array(fileData, position, length);\n",
              "      position += length;\n",
              "\n",
              "      const base64 = btoa(String.fromCharCode.apply(null, chunk));\n",
              "      yield {\n",
              "        response: {\n",
              "          action: 'append',\n",
              "          file: file.name,\n",
              "          data: base64,\n",
              "        },\n",
              "      };\n",
              "\n",
              "      let percentDone = fileData.byteLength === 0 ?\n",
              "          100 :\n",
              "          Math.round((position / fileData.byteLength) * 100);\n",
              "      percent.textContent = `${percentDone}% done`;\n",
              "\n",
              "    } while (position < fileData.byteLength);\n",
              "  }\n",
              "\n",
              "  // All done.\n",
              "  yield {\n",
              "    response: {\n",
              "      action: 'complete',\n",
              "    }\n",
              "  };\n",
              "}\n",
              "\n",
              "scope.google = scope.google || {};\n",
              "scope.google.colab = scope.google.colab || {};\n",
              "scope.google.colab._files = {\n",
              "  _uploadFiles,\n",
              "  _uploadFilesContinue,\n",
              "};\n",
              "})(self);\n",
              "</script> "
            ]
          },
          "metadata": {}
        },
        {
          "output_type": "stream",
          "name": "stdout",
          "text": [
            "Saving kaggle.json to kaggle.json\n"
          ]
        },
        {
          "output_type": "execute_result",
          "data": {
            "text/plain": [
              "{'kaggle.json': b'{\"username\":\"satishsaini\",\"key\":\"6f61f9669d77c8a5654931b01aefdc8d\"}'}"
            ]
          },
          "metadata": {},
          "execution_count": 2
        }
      ]
    },
    {
      "cell_type": "code",
      "source": [
        "!mkdir ~/.kaggle\n",
        "!cp kaggle.json ~/.kaggle/\n",
        "!chmod 600 ~/.kaggle/kaggle.json"
      ],
      "metadata": {
        "id": "Y1OY37Vw2CmZ"
      },
      "execution_count": 3,
      "outputs": []
    },
    {
      "cell_type": "code",
      "source": [
        "!kaggle competitions download -c dogs-vs-cats"
      ],
      "metadata": {
        "colab": {
          "base_uri": "https://localhost:8080/"
        },
        "id": "pfSvnDVW2QjP",
        "outputId": "4dbb16a3-9979-4d8c-d9b0-dfe03a2ec522"
      },
      "execution_count": 4,
      "outputs": [
        {
          "output_type": "stream",
          "name": "stdout",
          "text": [
            "Downloading dogs-vs-cats.zip to /content\n",
            "100% 809M/812M [00:21<00:00, 38.5MB/s]\n",
            "100% 812M/812M [00:21<00:00, 39.4MB/s]\n"
          ]
        }
      ]
    },
    {
      "cell_type": "code",
      "source": [
        "!unzip -qq dogs-vs-cats.zip"
      ],
      "metadata": {
        "id": "s-GP942i2QVs"
      },
      "execution_count": 5,
      "outputs": []
    },
    {
      "cell_type": "code",
      "source": [
        "!unzip -qq train.zip"
      ],
      "metadata": {
        "id": "ejhoTSpz2dzn"
      },
      "execution_count": 6,
      "outputs": []
    },
    {
      "cell_type": "code",
      "source": [
        "import os,shutil,pathlib"
      ],
      "metadata": {
        "id": "PTNNfy1p2qfB"
      },
      "execution_count": 7,
      "outputs": []
    },
    {
      "cell_type": "code",
      "source": [
        "original_dir = pathlib.Path(\"train\")\n",
        "new_base_dir = pathlib.Path(\"cats_vs_dogs_small\")"
      ],
      "metadata": {
        "id": "wmgO2jhi384k"
      },
      "execution_count": 8,
      "outputs": []
    },
    {
      "cell_type": "code",
      "source": [
        "def make_subset(subset_name, start_index, end_index): \n",
        "    for category in (\"cat\", \"dog\"):\n",
        "        dir = new_base_dir / subset_name / category\n",
        "        os.makedirs(dir)\n",
        "        fnames = [f\"{category}.{i}.jpg\" \n",
        "                  for i in range(start_index, end_index)]\n",
        "        for fname in fnames:\n",
        "            shutil.copyfile(src=original_dir / fname,\n",
        "                            dst=dir / fname)"
      ],
      "metadata": {
        "id": "BYBrOlP-_xde"
      },
      "execution_count": 10,
      "outputs": []
    },
    {
      "cell_type": "code",
      "source": [
        "make_subset(\"train\", start_index=0, end_index=1000)\n",
        "make_subset(\"validation\", start_index=1000, end_index=1500) \n",
        "make_subset(\"test\", start_index=1500, end_index=2500)"
      ],
      "metadata": {
        "id": "WWxlw-MpAKLA"
      },
      "execution_count": 11,
      "outputs": []
    },
    {
      "cell_type": "code",
      "source": [
        "from tensorflow import keras\n",
        "from tensorflow.keras import layers"
      ],
      "metadata": {
        "id": "CiFz33z2AV4P"
      },
      "execution_count": 12,
      "outputs": []
    },
    {
      "cell_type": "code",
      "source": [
        "inputs = keras.Input(shape=(180,180,3))\n",
        "x=layers.Rescaling(1./255)(inputs)\n",
        "x=layers.Conv2D(filters=32,kernel_size=3,activation='relu')(x)\n",
        "x=layers.MaxPooling2D(pool_size=2)(x)\n",
        "x=layers.Conv2D(filters=64,kernel_size=3,activation='relu')(x)\n",
        "x=layers.MaxPooling2D(pool_size=2)(x)\n",
        "x=layers.Conv2D(filters=128,kernel_size=3,activation='relu')(x)\n",
        "x=layers.MaxPooling2D(pool_size=2)(x)\n",
        "x=layers.Conv2D(filters=256,kernel_size=3,activation='relu')(x)\n",
        "x=layers.MaxPooling2D(pool_size=2)(x)\n",
        "x=layers.Conv2D(filters=256,kernel_size=3,activation='relu')(x)\n",
        "x=layers.Flatten()(x)\n",
        "outputs=layers.Dense(1,activation='sigmoid')(x)\n",
        "model = keras.Model(inputs=inputs,outputs=outputs)\n",
        "\n"
      ],
      "metadata": {
        "id": "XGYZ4kr9Be9q"
      },
      "execution_count": 13,
      "outputs": []
    },
    {
      "cell_type": "code",
      "source": [
        "model.summary()"
      ],
      "metadata": {
        "colab": {
          "base_uri": "https://localhost:8080/"
        },
        "id": "MO--_VAnDjd8",
        "outputId": "5d966545-0eaa-4b8b-e69d-8b179286f8e3"
      },
      "execution_count": 14,
      "outputs": [
        {
          "output_type": "stream",
          "name": "stdout",
          "text": [
            "Model: \"model\"\n",
            "_________________________________________________________________\n",
            " Layer (type)                Output Shape              Param #   \n",
            "=================================================================\n",
            " input_1 (InputLayer)        [(None, 180, 180, 3)]     0         \n",
            "                                                                 \n",
            " rescaling (Rescaling)       (None, 180, 180, 3)       0         \n",
            "                                                                 \n",
            " conv2d (Conv2D)             (None, 178, 178, 32)      896       \n",
            "                                                                 \n",
            " max_pooling2d (MaxPooling2D  (None, 89, 89, 32)       0         \n",
            " )                                                               \n",
            "                                                                 \n",
            " conv2d_1 (Conv2D)           (None, 87, 87, 64)        18496     \n",
            "                                                                 \n",
            " max_pooling2d_1 (MaxPooling  (None, 43, 43, 64)       0         \n",
            " 2D)                                                             \n",
            "                                                                 \n",
            " conv2d_2 (Conv2D)           (None, 41, 41, 128)       73856     \n",
            "                                                                 \n",
            " max_pooling2d_2 (MaxPooling  (None, 20, 20, 128)      0         \n",
            " 2D)                                                             \n",
            "                                                                 \n",
            " conv2d_3 (Conv2D)           (None, 18, 18, 256)       295168    \n",
            "                                                                 \n",
            " max_pooling2d_3 (MaxPooling  (None, 9, 9, 256)        0         \n",
            " 2D)                                                             \n",
            "                                                                 \n",
            " conv2d_4 (Conv2D)           (None, 7, 7, 256)         590080    \n",
            "                                                                 \n",
            " flatten (Flatten)           (None, 12544)             0         \n",
            "                                                                 \n",
            " dense (Dense)               (None, 1)                 12545     \n",
            "                                                                 \n",
            "=================================================================\n",
            "Total params: 991,041\n",
            "Trainable params: 991,041\n",
            "Non-trainable params: 0\n",
            "_________________________________________________________________\n"
          ]
        }
      ]
    },
    {
      "cell_type": "code",
      "source": [
        "model.compile(optimizer='rmsprop',\n",
        "              loss='binary_crossentropy',\n",
        "              metrics='accuracy')"
      ],
      "metadata": {
        "id": "Jdh1vBHCD1ru"
      },
      "execution_count": 15,
      "outputs": []
    },
    {
      "cell_type": "code",
      "source": [
        "from tensorflow.keras.utils import image_dataset_from_directory "
      ],
      "metadata": {
        "id": "_ma2ABCrHMbS"
      },
      "execution_count": 16,
      "outputs": []
    },
    {
      "cell_type": "code",
      "source": [
        "train_dataset=image_dataset_from_directory(new_base_dir/\"train\",\n",
        "                                           image_size=(180,180),\n",
        "                                           batch_size=32)\n",
        "\n",
        "validation_dataset = image_dataset_from_directory(new_base_dir /\"validation\",\n",
        "                                                  image_size=(180,180),\n",
        "                                                  batch_size=32)\n",
        "\n",
        "test_size = image_dataset_from_directory(new_base_dir /\"test\",\n",
        "                                         image_size=(180,180),\n",
        "                                         batch_size=32)"
      ],
      "metadata": {
        "colab": {
          "base_uri": "https://localhost:8080/"
        },
        "id": "q2J8ZMjzHbdJ",
        "outputId": "17478998-3ced-466a-fe0e-ab388c666248"
      },
      "execution_count": 21,
      "outputs": [
        {
          "output_type": "stream",
          "name": "stdout",
          "text": [
            "Found 2000 files belonging to 2 classes.\n",
            "Found 1000 files belonging to 2 classes.\n",
            "Found 2000 files belonging to 2 classes.\n"
          ]
        }
      ]
    },
    {
      "cell_type": "code",
      "source": [
        "for data_batch,label_batch in train_dataset:\n",
        "    print(f\"data batch shape {data_batch.shape}\")\n",
        "    print(f\"label batch shape { label_batch.shape}\")\n",
        "    break"
      ],
      "metadata": {
        "id": "KH2wI9kpIhUO",
        "colab": {
          "base_uri": "https://localhost:8080/"
        },
        "outputId": "75c57184-1669-483f-c84f-d3e351023ab7"
      },
      "execution_count": 23,
      "outputs": [
        {
          "output_type": "stream",
          "name": "stdout",
          "text": [
            "data batch shape (32, 180, 180, 3)\n",
            "label batch shape (32,)\n"
          ]
        }
      ]
    },
    {
      "cell_type": "code",
      "source": [
        "callbacks = [keras.callbacks.ModelCheckpoint(filepath=\"convnet_from_scratch.keras\",save_best_only=True,monitor=\"val_loss\")]"
      ],
      "metadata": {
        "id": "dvnIRiVj-yKl"
      },
      "execution_count": 24,
      "outputs": []
    },
    {
      "cell_type": "code",
      "source": [
        "history = model.fit(train_dataset,epochs=30,validation_data=validation_dataset,callbacks=callbacks)"
      ],
      "metadata": {
        "colab": {
          "base_uri": "https://localhost:8080/"
        },
        "id": "IJoP8run-3SD",
        "outputId": "d9019fc1-bfb0-4bae-f224-80377e908593"
      },
      "execution_count": null,
      "outputs": [
        {
          "output_type": "stream",
          "name": "stdout",
          "text": [
            "Epoch 1/30\n",
            "63/63 [==============================] - 144s 2s/step - loss: 0.6982 - accuracy: 0.4990 - val_loss: 0.6930 - val_accuracy: 0.5000\n",
            "Epoch 2/30\n",
            "63/63 [==============================] - 134s 2s/step - loss: 0.6929 - accuracy: 0.5240 - val_loss: 0.6886 - val_accuracy: 0.5080\n",
            "Epoch 3/30\n",
            "63/63 [==============================] - 131s 2s/step - loss: 0.6712 - accuracy: 0.5940 - val_loss: 0.7775 - val_accuracy: 0.5230\n",
            "Epoch 4/30\n",
            "63/63 [==============================] - 132s 2s/step - loss: 0.6332 - accuracy: 0.6490 - val_loss: 0.6243 - val_accuracy: 0.6180\n",
            "Epoch 5/30\n",
            "63/63 [==============================] - 130s 2s/step - loss: 0.5951 - accuracy: 0.6860 - val_loss: 0.5813 - val_accuracy: 0.6800\n",
            "Epoch 6/30\n",
            "63/63 [==============================] - 135s 2s/step - loss: 0.5596 - accuracy: 0.7140 - val_loss: 0.5785 - val_accuracy: 0.6910\n",
            "Epoch 7/30\n",
            "63/63 [==============================] - 131s 2s/step - loss: 0.5048 - accuracy: 0.7565 - val_loss: 0.5172 - val_accuracy: 0.7380\n",
            "Epoch 8/30\n",
            "63/63 [==============================] - 131s 2s/step - loss: 0.4727 - accuracy: 0.7615 - val_loss: 0.5766 - val_accuracy: 0.7130\n",
            "Epoch 9/30\n",
            "63/63 [==============================] - 133s 2s/step - loss: 0.4484 - accuracy: 0.7845 - val_loss: 0.5736 - val_accuracy: 0.7360\n",
            "Epoch 10/30\n",
            "63/63 [==============================] - 132s 2s/step - loss: 0.3880 - accuracy: 0.8230 - val_loss: 0.6758 - val_accuracy: 0.6790\n",
            "Epoch 11/30\n",
            "63/63 [==============================] - 133s 2s/step - loss: 0.3524 - accuracy: 0.8495 - val_loss: 0.5570 - val_accuracy: 0.7180\n",
            "Epoch 12/30\n",
            "63/63 [==============================] - 133s 2s/step - loss: 0.2937 - accuracy: 0.8770 - val_loss: 0.7870 - val_accuracy: 0.7290\n",
            "Epoch 13/30\n",
            "63/63 [==============================] - 133s 2s/step - loss: 0.2304 - accuracy: 0.9065 - val_loss: 0.7818 - val_accuracy: 0.7600\n",
            "Epoch 14/30\n",
            "63/63 [==============================] - 132s 2s/step - loss: 0.2054 - accuracy: 0.9220 - val_loss: 0.8730 - val_accuracy: 0.7350\n",
            "Epoch 15/30\n",
            "63/63 [==============================] - 131s 2s/step - loss: 0.1433 - accuracy: 0.9440 - val_loss: 0.8577 - val_accuracy: 0.7420\n",
            "Epoch 16/30\n",
            "63/63 [==============================] - 132s 2s/step - loss: 0.1106 - accuracy: 0.9540 - val_loss: 0.9721 - val_accuracy: 0.7560\n",
            "Epoch 17/30\n",
            "63/63 [==============================] - 131s 2s/step - loss: 0.1062 - accuracy: 0.9625 - val_loss: 0.9796 - val_accuracy: 0.7490\n",
            "Epoch 18/30\n",
            "19/63 [========>.....................] - ETA: 1:21 - loss: 0.0369 - accuracy: 0.9901"
          ]
        }
      ]
    },
    {
      "cell_type": "code",
      "source": [],
      "metadata": {
        "id": "tlgYKvuVF2b6"
      },
      "execution_count": null,
      "outputs": []
    }
  ]
}