{
  "cells": [
    {
      "cell_type": "markdown",
      "metadata": {
        "id": "view-in-github",
        "colab_type": "text"
      },
      "source": [
        "<a href=\"https://colab.research.google.com/github/sainisatish/DeepLearningFromScratch/blob/main/Cat_And_Dog_classifier.ipynb\" target=\"_parent\"><img src=\"https://colab.research.google.com/assets/colab-badge.svg\" alt=\"Open In Colab\"/></a>"
      ]
    },
    {
      "cell_type": "code",
      "execution_count": 1,
      "metadata": {
        "id": "v6WCy5o10UD0"
      },
      "outputs": [],
      "source": [
        "from google.colab import files"
      ]
    },
    {
      "cell_type": "code",
      "execution_count": null,
      "metadata": {
        "id": "wY4uzgFD1_N6"
      },
      "outputs": [],
      "source": [
        "files.upload()"
      ]
    },
    {
      "cell_type": "code",
      "execution_count": 3,
      "metadata": {
        "id": "Y1OY37Vw2CmZ"
      },
      "outputs": [],
      "source": [
        "!mkdir ~/.kaggle\n",
        "!cp kaggle.json ~/.kaggle/\n",
        "!chmod 600 ~/.kaggle/kaggle.json"
      ]
    },
    {
      "cell_type": "code",
      "execution_count": 4,
      "metadata": {
        "colab": {
          "base_uri": "https://localhost:8080/"
        },
        "id": "pfSvnDVW2QjP",
        "outputId": "c06b8b2f-49e9-4f21-9b1e-e4c3ff6eae9d"
      },
      "outputs": [
        {
          "output_type": "stream",
          "name": "stdout",
          "text": [
            "Downloading dogs-vs-cats.zip to /content\n",
            "100% 810M/812M [00:43<00:00, 20.6MB/s]\n",
            "100% 812M/812M [00:43<00:00, 19.6MB/s]\n"
          ]
        }
      ],
      "source": [
        "!kaggle competitions download -c dogs-vs-cats"
      ]
    },
    {
      "cell_type": "code",
      "execution_count": 5,
      "metadata": {
        "id": "s-GP942i2QVs"
      },
      "outputs": [],
      "source": [
        "!unzip -qq dogs-vs-cats.zip"
      ]
    },
    {
      "cell_type": "code",
      "execution_count": 6,
      "metadata": {
        "id": "ejhoTSpz2dzn"
      },
      "outputs": [],
      "source": [
        "!unzip -qq train.zip"
      ]
    },
    {
      "cell_type": "code",
      "execution_count": 7,
      "metadata": {
        "id": "PTNNfy1p2qfB"
      },
      "outputs": [],
      "source": [
        "import os,shutil,pathlib"
      ]
    },
    {
      "cell_type": "code",
      "execution_count": 8,
      "metadata": {
        "id": "wmgO2jhi384k"
      },
      "outputs": [],
      "source": [
        "original_dir = pathlib.Path(\"train\")\n",
        "new_base_dir = pathlib.Path(\"cats_vs_dogs_small\")"
      ]
    },
    {
      "cell_type": "code",
      "execution_count": 9,
      "metadata": {
        "id": "BYBrOlP-_xde"
      },
      "outputs": [],
      "source": [
        "def make_subset(subset_name, start_index, end_index): \n",
        "    for category in (\"cat\", \"dog\"):\n",
        "        dir = new_base_dir / subset_name / category\n",
        "        os.makedirs(dir)\n",
        "        fnames = [f\"{category}.{i}.jpg\" \n",
        "                  for i in range(start_index, end_index)]\n",
        "        for fname in fnames:\n",
        "            shutil.copyfile(src=original_dir / fname,\n",
        "                            dst=dir / fname)"
      ]
    },
    {
      "cell_type": "code",
      "execution_count": 10,
      "metadata": {
        "id": "WWxlw-MpAKLA"
      },
      "outputs": [],
      "source": [
        "make_subset(\"train\", start_index=0, end_index=1000)\n",
        "make_subset(\"validation\", start_index=1000, end_index=1500) \n",
        "make_subset(\"test\", start_index=1500, end_index=2500)"
      ]
    },
    {
      "cell_type": "code",
      "execution_count": 11,
      "metadata": {
        "id": "CiFz33z2AV4P"
      },
      "outputs": [],
      "source": [
        "from tensorflow import keras\n",
        "from tensorflow.keras import layers"
      ]
    },
    {
      "cell_type": "code",
      "execution_count": null,
      "metadata": {
        "id": "XGYZ4kr9Be9q"
      },
      "outputs": [],
      "source": [
        " inputs = keras.Input(shape=(180,180,3))\n",
        "x=layers.Rescaling(1./255)(inputs)\n",
        "x=layers.Conv2D(filters=32,kernel_size=3,activation='relu')(x)\n",
        "x=layers.MaxPooling2D(pool_size=2)(x)\n",
        "x=layers.Conv2D(filters=64,kernel_size=3,activation='relu')(x)\n",
        "x=layers.MaxPooling2D(pool_size=2)(x)\n",
        "x=layers.Conv2D(filters=128,kernel_size=3,activation='relu')(x)\n",
        "x=layers.MaxPooling2D(pool_size=2)(x)\n",
        "x=layers.Conv2D(filters=256,kernel_size=3,activation='relu')(x)\n",
        "x=layers.MaxPooling2D(pool_size=2)(x)\n",
        "x=layers.Conv2D(filters=256,kernel_size=3,activation='relu')(x)\n",
        "x=layers.Flatten()(x)\n",
        "outputs=layers.Dense(1,activation='sigmoid')(x)\n",
        "model = keras.Model(inputs=inputs,outputs=outputs)\n",
        "\n"
      ]
    },
    {
      "cell_type": "code",
      "execution_count": null,
      "metadata": {
        "colab": {
          "base_uri": "https://localhost:8080/"
        },
        "id": "MO--_VAnDjd8",
        "outputId": "1e0f70e6-2c9c-4c2d-ccd0-7f1e387885dc"
      },
      "outputs": [
        {
          "name": "stdout",
          "output_type": "stream",
          "text": [
            "Model: \"model\"\n",
            "_________________________________________________________________\n",
            " Layer (type)                Output Shape              Param #   \n",
            "=================================================================\n",
            " input_1 (InputLayer)        [(None, 180, 180, 3)]     0         \n",
            "                                                                 \n",
            " rescaling (Rescaling)       (None, 180, 180, 3)       0         \n",
            "                                                                 \n",
            " conv2d (Conv2D)             (None, 178, 178, 32)      896       \n",
            "                                                                 \n",
            " max_pooling2d (MaxPooling2D  (None, 89, 89, 32)       0         \n",
            " )                                                               \n",
            "                                                                 \n",
            " conv2d_1 (Conv2D)           (None, 87, 87, 64)        18496     \n",
            "                                                                 \n",
            " max_pooling2d_1 (MaxPooling  (None, 43, 43, 64)       0         \n",
            " 2D)                                                             \n",
            "                                                                 \n",
            " conv2d_2 (Conv2D)           (None, 41, 41, 128)       73856     \n",
            "                                                                 \n",
            " max_pooling2d_2 (MaxPooling  (None, 20, 20, 128)      0         \n",
            " 2D)                                                             \n",
            "                                                                 \n",
            " conv2d_3 (Conv2D)           (None, 18, 18, 256)       295168    \n",
            "                                                                 \n",
            " max_pooling2d_3 (MaxPooling  (None, 9, 9, 256)        0         \n",
            " 2D)                                                             \n",
            "                                                                 \n",
            " conv2d_4 (Conv2D)           (None, 7, 7, 256)         590080    \n",
            "                                                                 \n",
            " flatten (Flatten)           (None, 12544)             0         \n",
            "                                                                 \n",
            " dense (Dense)               (None, 1)                 12545     \n",
            "                                                                 \n",
            "=================================================================\n",
            "Total params: 991,041\n",
            "Trainable params: 991,041\n",
            "Non-trainable params: 0\n",
            "_________________________________________________________________\n"
          ]
        }
      ],
      "source": [
        "model.summary()"
      ]
    },
    {
      "cell_type": "code",
      "execution_count": null,
      "metadata": {
        "id": "Jdh1vBHCD1ru"
      },
      "outputs": [],
      "source": [
        "model.compile(optimizer='rmsprop',\n",
        "              loss='binary_crossentropy',\n",
        "              metrics='accuracy')"
      ]
    },
    {
      "cell_type": "code",
      "execution_count": 12,
      "metadata": {
        "id": "_ma2ABCrHMbS"
      },
      "outputs": [],
      "source": [
        "from tensorflow.keras.utils import image_dataset_from_directory "
      ]
    },
    {
      "cell_type": "code",
      "execution_count": 13,
      "metadata": {
        "colab": {
          "base_uri": "https://localhost:8080/"
        },
        "id": "q2J8ZMjzHbdJ",
        "outputId": "f540de81-795d-4bd4-949a-d59e4e9c212b"
      },
      "outputs": [
        {
          "output_type": "stream",
          "name": "stdout",
          "text": [
            "Found 2000 files belonging to 2 classes.\n",
            "Found 1000 files belonging to 2 classes.\n",
            "Found 2000 files belonging to 2 classes.\n"
          ]
        }
      ],
      "source": [
        "train_dataset=image_dataset_from_directory(new_base_dir/\"train\",\n",
        "                                           image_size=(180,180),\n",
        "                                           batch_size=32)\n",
        "\n",
        "validation_dataset = image_dataset_from_directory(new_base_dir /\"validation\",\n",
        "                                                  image_size=(180,180),\n",
        "                                                  batch_size=32)\n",
        "\n",
        "test_size = image_dataset_from_directory(new_base_dir /\"test\",\n",
        "                                         image_size=(180,180),\n",
        "                                         batch_size=32)"
      ]
    },
    {
      "cell_type": "code",
      "execution_count": 14,
      "metadata": {
        "colab": {
          "base_uri": "https://localhost:8080/"
        },
        "id": "KH2wI9kpIhUO",
        "outputId": "f0c66ee1-d207-4a62-b311-e3b6e6f0953b"
      },
      "outputs": [
        {
          "output_type": "stream",
          "name": "stdout",
          "text": [
            "data batch shape (32, 180, 180, 3)\n",
            "label batch shape (32,)\n"
          ]
        }
      ],
      "source": [
        "for data_batch,label_batch in train_dataset:\n",
        "    print(f\"data batch shape {data_batch.shape}\")\n",
        "    print(f\"label batch shape { label_batch.shape}\")\n",
        "    break"
      ]
    },
    {
      "cell_type": "code",
      "execution_count": null,
      "metadata": {
        "id": "dvnIRiVj-yKl"
      },
      "outputs": [],
      "source": [
        "callbacks = [keras.callbacks.ModelCheckpoint(filepath=\"convnet_from_scratch.keras\",save_best_only=True,monitor=\"val_loss\")]"
      ]
    },
    {
      "cell_type": "code",
      "execution_count": null,
      "metadata": {
        "colab": {
          "base_uri": "https://localhost:8080/"
        },
        "id": "IJoP8run-3SD",
        "outputId": "c4b1b7cc-c280-473c-9295-6139613a3719"
      },
      "outputs": [
        {
          "name": "stdout",
          "output_type": "stream",
          "text": [
            "Epoch 1/30\n",
            "63/63 [==============================] - 15s 73ms/step - loss: 0.6978 - accuracy: 0.5120 - val_loss: 0.6917 - val_accuracy: 0.5000\n",
            "Epoch 2/30\n",
            "63/63 [==============================] - 4s 62ms/step - loss: 0.6937 - accuracy: 0.5370 - val_loss: 0.6956 - val_accuracy: 0.5070\n",
            "Epoch 3/30\n",
            "63/63 [==============================] - 5s 75ms/step - loss: 0.6744 - accuracy: 0.6025 - val_loss: 0.6554 - val_accuracy: 0.6310\n",
            "Epoch 4/30\n",
            "63/63 [==============================] - 4s 62ms/step - loss: 0.6519 - accuracy: 0.6435 - val_loss: 0.6247 - val_accuracy: 0.6510\n",
            "Epoch 5/30\n",
            "63/63 [==============================] - 6s 85ms/step - loss: 0.6288 - accuracy: 0.6535 - val_loss: 0.6228 - val_accuracy: 0.6460\n",
            "Epoch 6/30\n",
            "63/63 [==============================] - 4s 63ms/step - loss: 0.5947 - accuracy: 0.6805 - val_loss: 0.5969 - val_accuracy: 0.6820\n",
            "Epoch 7/30\n",
            "63/63 [==============================] - 5s 79ms/step - loss: 0.5757 - accuracy: 0.6945 - val_loss: 0.6570 - val_accuracy: 0.6540\n",
            "Epoch 8/30\n",
            "63/63 [==============================] - 5s 72ms/step - loss: 0.5241 - accuracy: 0.7325 - val_loss: 0.5953 - val_accuracy: 0.6870\n",
            "Epoch 9/30\n",
            "63/63 [==============================] - 5s 64ms/step - loss: 0.5529 - accuracy: 0.7575 - val_loss: 0.5359 - val_accuracy: 0.7420\n",
            "Epoch 10/30\n",
            "63/63 [==============================] - 4s 61ms/step - loss: 0.4332 - accuracy: 0.8070 - val_loss: 0.6178 - val_accuracy: 0.7200\n",
            "Epoch 11/30\n",
            "63/63 [==============================] - 5s 75ms/step - loss: 0.4113 - accuracy: 0.8195 - val_loss: 0.6234 - val_accuracy: 0.6950\n",
            "Epoch 12/30\n",
            "63/63 [==============================] - 4s 61ms/step - loss: 0.3568 - accuracy: 0.8405 - val_loss: 0.7227 - val_accuracy: 0.6990\n",
            "Epoch 13/30\n",
            "63/63 [==============================] - 4s 62ms/step - loss: 0.2931 - accuracy: 0.8785 - val_loss: 0.8533 - val_accuracy: 0.6940\n",
            "Epoch 14/30\n",
            "63/63 [==============================] - 5s 79ms/step - loss: 0.2455 - accuracy: 0.8975 - val_loss: 0.9554 - val_accuracy: 0.7100\n",
            "Epoch 15/30\n",
            "63/63 [==============================] - 4s 62ms/step - loss: 0.1833 - accuracy: 0.9240 - val_loss: 0.8342 - val_accuracy: 0.7360\n",
            "Epoch 16/30\n",
            "63/63 [==============================] - 5s 70ms/step - loss: 0.1444 - accuracy: 0.9395 - val_loss: 0.8707 - val_accuracy: 0.7370\n",
            "Epoch 17/30\n",
            "63/63 [==============================] - 5s 63ms/step - loss: 0.1211 - accuracy: 0.9590 - val_loss: 0.9328 - val_accuracy: 0.7410\n",
            "Epoch 18/30\n",
            "63/63 [==============================] - 4s 60ms/step - loss: 0.0874 - accuracy: 0.9665 - val_loss: 1.1053 - val_accuracy: 0.7460\n",
            "Epoch 19/30\n",
            "63/63 [==============================] - 5s 76ms/step - loss: 0.0985 - accuracy: 0.9645 - val_loss: 1.1478 - val_accuracy: 0.7260\n",
            "Epoch 20/30\n",
            "63/63 [==============================] - 4s 62ms/step - loss: 0.0743 - accuracy: 0.9760 - val_loss: 1.2079 - val_accuracy: 0.7300\n",
            "Epoch 21/30\n",
            "63/63 [==============================] - 4s 62ms/step - loss: 0.0666 - accuracy: 0.9790 - val_loss: 1.2162 - val_accuracy: 0.7410\n",
            "Epoch 22/30\n",
            "63/63 [==============================] - 5s 78ms/step - loss: 0.0635 - accuracy: 0.9770 - val_loss: 1.3987 - val_accuracy: 0.7360\n",
            "Epoch 23/30\n",
            "63/63 [==============================] - 4s 61ms/step - loss: 0.0353 - accuracy: 0.9900 - val_loss: 1.6204 - val_accuracy: 0.7290\n",
            "Epoch 24/30\n",
            "63/63 [==============================] - 4s 61ms/step - loss: 0.0547 - accuracy: 0.9835 - val_loss: 1.6473 - val_accuracy: 0.7310\n",
            "Epoch 25/30\n",
            "63/63 [==============================] - 4s 61ms/step - loss: 0.0333 - accuracy: 0.9900 - val_loss: 1.7759 - val_accuracy: 0.7340\n",
            "Epoch 26/30\n",
            "63/63 [==============================] - 4s 62ms/step - loss: 0.0677 - accuracy: 0.9790 - val_loss: 1.6256 - val_accuracy: 0.7310\n",
            "Epoch 27/30\n",
            "63/63 [==============================] - 5s 77ms/step - loss: 0.0297 - accuracy: 0.9910 - val_loss: 2.4296 - val_accuracy: 0.7060\n",
            "Epoch 28/30\n",
            "63/63 [==============================] - 4s 62ms/step - loss: 0.0568 - accuracy: 0.9835 - val_loss: 1.7396 - val_accuracy: 0.7060\n",
            "Epoch 29/30\n",
            "63/63 [==============================] - 4s 61ms/step - loss: 0.0626 - accuracy: 0.9800 - val_loss: 2.3901 - val_accuracy: 0.6830\n",
            "Epoch 30/30\n",
            "63/63 [==============================] - 5s 77ms/step - loss: 0.0293 - accuracy: 0.9895 - val_loss: 2.7800 - val_accuracy: 0.7050\n"
          ]
        }
      ],
      "source": [
        "history = model.fit(train_dataset,epochs=30,validation_data=validation_dataset,callbacks=callbacks)"
      ]
    },
    {
      "cell_type": "code",
      "execution_count": null,
      "metadata": {
        "colab": {
          "base_uri": "https://localhost:8080/"
        },
        "id": "tlgYKvuVF2b6",
        "outputId": "29ad2205-b004-4f62-91ee-4ebdb49311a3"
      },
      "outputs": [
        {
          "name": "stdout",
          "output_type": "stream",
          "text": [
            "dict_keys(['loss', 'accuracy', 'val_loss', 'val_accuracy'])\n"
          ]
        }
      ],
      "source": [
        "print(history.history.keys())"
      ]
    },
    {
      "cell_type": "code",
      "execution_count": null,
      "metadata": {
        "id": "aTblE9GCC8Au"
      },
      "outputs": [],
      "source": [
        "import matplotlib.pyplot as plt"
      ]
    },
    {
      "cell_type": "code",
      "execution_count": null,
      "metadata": {
        "id": "Zie1CIucDLhZ"
      },
      "outputs": [],
      "source": [
        "accuracy,val_accuracy,loss,val_loss = history.history[\"accuracy\"],history.history[\"val_accuracy\"],history.history[\"loss\"],history.history[\"val_loss\"]"
      ]
    },
    {
      "cell_type": "code",
      "execution_count": null,
      "metadata": {
        "colab": {
          "base_uri": "https://localhost:8080/",
          "height": 545
        },
        "id": "vSerenHcDscn",
        "outputId": "57c3d667-8efd-447f-da40-8f752ea62697"
      },
      "outputs": [
        {
          "data": {
            "image/png": "[encoded data removed]",
            "text/plain": [
              "<Figure size 432x288 with 1 Axes>"
            ]
          },
          "metadata": {},
          "output_type": "display_data"
        },
        {
          "data": {
            "image/png": "[encoded data removed]",
            "text/plain": [
              "<Figure size 432x288 with 1 Axes>"
            ]
          },
          "metadata": {},
          "output_type": "display_data"
        }
      ],
      "source": [
        "epochs = range(1,len(accuracy)+1)\n",
        "plt.plot(epochs, accuracy, \"bo\", label=\"Training accuracy\")\n",
        "plt.plot(epochs, val_accuracy, \"b\", label=\"Validation accuracy\")\n",
        "plt.title(\"Training and validation accuracy\")\n",
        "plt.legend()\n",
        "plt.figure()\n",
        "plt.plot(epochs, loss, \"bo\", label=\"Training loss\")\n",
        "plt.plot(epochs, val_loss, \"b\", label=\"Validation loss\")\n",
        "plt.title(\"Training and validation loss\")\n",
        "plt.legend()\n",
        "plt.show()"
      ]
    },
    {
      "cell_type": "code",
      "execution_count": null,
      "metadata": {
        "colab": {
          "base_uri": "https://localhost:8080/"
        },
        "id": "3uVwh7iKD_Fr",
        "outputId": "fc0c9b2d-5563-4cb4-98ee-7aa0dfe6608a"
      },
      "outputs": [
        {
          "name": "stdout",
          "output_type": "stream",
          "text": [
            "63/63 [==============================] - 4s 43ms/step - loss: 2.9484 - accuracy: 0.6895\n"
          ]
        }
      ],
      "source": [
        "test_loss,test_acc = model.evaluate(test_size)"
      ]
    },
    {
      "cell_type": "markdown",
      "source": [
        "Performing Data Augmentation "
      ],
      "metadata": {
        "id": "e3SNQ2dwKrSx"
      }
    },
    {
      "cell_type": "code",
      "execution_count": 15,
      "metadata": {
        "id": "F2oWmkDBEyHP"
      },
      "outputs": [],
      "source": [
        "data_augmentation = keras.Sequential(\n",
        "    [\n",
        "        layers.RandomFlip(\"horizontal\"),\n",
        "        layers.RandomRotation(0.1),\n",
        "        layers.RandomZoom(0.2),\n",
        "    ]\n",
        "    )"
      ]
    },
    {
      "cell_type": "code",
      "execution_count": 16,
      "metadata": {
        "colab": {
          "base_uri": "https://localhost:8080/",
          "height": 380
        },
        "id": "1LVCtGcuIvaG",
        "outputId": "bf0e38c7-4d0b-4945-d750-87a9c6143468"
      },
      "outputs": [
        {
          "output_type": "error",
          "ename": "ValueError",
          "evalue": "ignored",
          "traceback": [
            "\u001b[0;31m---------------------------------------------------------------------------\u001b[0m",
            "\u001b[0;31mValueError\u001b[0m                                Traceback (most recent call last)",
            "\u001b[0;32m<ipython-input-16-f3914e0982d4>\u001b[0m in \u001b[0;36m<module>\u001b[0;34m\u001b[0m\n\u001b[1;32m      1\u001b[0m \u001b[0minputs\u001b[0m \u001b[0;34m=\u001b[0m \u001b[0mkeras\u001b[0m\u001b[0;34m.\u001b[0m\u001b[0mInput\u001b[0m\u001b[0;34m(\u001b[0m\u001b[0mshape\u001b[0m\u001b[0;34m=\u001b[0m\u001b[0;34m(\u001b[0m\u001b[0;36m180\u001b[0m\u001b[0;34m,\u001b[0m\u001b[0;36m180\u001b[0m\u001b[0;34m,\u001b[0m\u001b[0;36m3\u001b[0m\u001b[0;34m)\u001b[0m\u001b[0;34m)\u001b[0m\u001b[0;34m\u001b[0m\u001b[0;34m\u001b[0m\u001b[0m\n\u001b[0;32m----> 2\u001b[0;31m \u001b[0mx\u001b[0m\u001b[0;34m=\u001b[0m \u001b[0mdata_augmentation\u001b[0m\u001b[0;34m(\u001b[0m\u001b[0;34m)\u001b[0m\u001b[0;34m(\u001b[0m\u001b[0minputs\u001b[0m\u001b[0;34m)\u001b[0m\u001b[0;34m\u001b[0m\u001b[0;34m\u001b[0m\u001b[0m\n\u001b[0m\u001b[1;32m      3\u001b[0m \u001b[0mx\u001b[0m\u001b[0;34m=\u001b[0m \u001b[0mlayers\u001b[0m\u001b[0;34m.\u001b[0m\u001b[0mRescaling\u001b[0m\u001b[0;34m(\u001b[0m\u001b[0;36m1.\u001b[0m\u001b[0;34m/\u001b[0m\u001b[0;36m255\u001b[0m\u001b[0;34m)\u001b[0m\u001b[0;34m(\u001b[0m\u001b[0;34m)\u001b[0m\u001b[0;34m\u001b[0m\u001b[0;34m\u001b[0m\u001b[0m\n\u001b[1;32m      4\u001b[0m \u001b[0mx\u001b[0m\u001b[0;34m=\u001b[0m \u001b[0mlayers\u001b[0m\u001b[0;34m.\u001b[0m\u001b[0mConv2D\u001b[0m\u001b[0;34m(\u001b[0m\u001b[0mfilters\u001b[0m\u001b[0;34m=\u001b[0m\u001b[0;36m32\u001b[0m\u001b[0;34m,\u001b[0m\u001b[0mkernel_size\u001b[0m\u001b[0;34m=\u001b[0m\u001b[0;36m3\u001b[0m\u001b[0;34m,\u001b[0m\u001b[0mactivation\u001b[0m\u001b[0;34m=\u001b[0m\u001b[0;34m'relu'\u001b[0m\u001b[0;34m)\u001b[0m\u001b[0;34m(\u001b[0m\u001b[0mx\u001b[0m\u001b[0;34m)\u001b[0m\u001b[0;34m\u001b[0m\u001b[0;34m\u001b[0m\u001b[0m\n\u001b[1;32m      5\u001b[0m \u001b[0mx\u001b[0m\u001b[0;34m=\u001b[0m \u001b[0mlayers\u001b[0m\u001b[0;34m.\u001b[0m\u001b[0mMaxPooling2D\u001b[0m\u001b[0;34m(\u001b[0m\u001b[0mpool_size\u001b[0m\u001b[0;34m=\u001b[0m\u001b[0;36m2\u001b[0m\u001b[0;34m)\u001b[0m\u001b[0;34m(\u001b[0m\u001b[0mx\u001b[0m\u001b[0;34m)\u001b[0m\u001b[0;34m\u001b[0m\u001b[0;34m\u001b[0m\u001b[0m\n",
            "\u001b[0;32m/usr/local/lib/python3.8/dist-packages/keras/utils/traceback_utils.py\u001b[0m in \u001b[0;36merror_handler\u001b[0;34m(*args, **kwargs)\u001b[0m\n\u001b[1;32m     68\u001b[0m             \u001b[0;31m# To get the full stack trace, call:\u001b[0m\u001b[0;34m\u001b[0m\u001b[0;34m\u001b[0m\u001b[0;34m\u001b[0m\u001b[0m\n\u001b[1;32m     69\u001b[0m             \u001b[0;31m# `tf.debugging.disable_traceback_filtering()`\u001b[0m\u001b[0;34m\u001b[0m\u001b[0;34m\u001b[0m\u001b[0;34m\u001b[0m\u001b[0m\n\u001b[0;32m---> 70\u001b[0;31m             \u001b[0;32mraise\u001b[0m \u001b[0me\u001b[0m\u001b[0;34m.\u001b[0m\u001b[0mwith_traceback\u001b[0m\u001b[0;34m(\u001b[0m\u001b[0mfiltered_tb\u001b[0m\u001b[0;34m)\u001b[0m \u001b[0;32mfrom\u001b[0m \u001b[0;32mNone\u001b[0m\u001b[0;34m\u001b[0m\u001b[0;34m\u001b[0m\u001b[0m\n\u001b[0m\u001b[1;32m     71\u001b[0m         \u001b[0;32mfinally\u001b[0m\u001b[0;34m:\u001b[0m\u001b[0;34m\u001b[0m\u001b[0;34m\u001b[0m\u001b[0m\n\u001b[1;32m     72\u001b[0m             \u001b[0;32mdel\u001b[0m \u001b[0mfiltered_tb\u001b[0m\u001b[0;34m\u001b[0m\u001b[0;34m\u001b[0m\u001b[0m\n",
            "\u001b[0;32m/usr/local/lib/python3.8/dist-packages/keras/utils/layer_utils.py\u001b[0m in \u001b[0;36msplit_out_first_arg\u001b[0;34m(self, args, kwargs)\u001b[0m\n\u001b[1;32m    807\u001b[0m             \u001b[0minputs\u001b[0m \u001b[0;34m=\u001b[0m \u001b[0mkwargs\u001b[0m\u001b[0;34m.\u001b[0m\u001b[0mpop\u001b[0m\u001b[0;34m(\u001b[0m\u001b[0mself\u001b[0m\u001b[0;34m.\u001b[0m\u001b[0m_arg_names\u001b[0m\u001b[0;34m[\u001b[0m\u001b[0;36m0\u001b[0m\u001b[0;34m]\u001b[0m\u001b[0;34m)\u001b[0m\u001b[0;34m\u001b[0m\u001b[0;34m\u001b[0m\u001b[0m\n\u001b[1;32m    808\u001b[0m         \u001b[0;32melse\u001b[0m\u001b[0;34m:\u001b[0m\u001b[0;34m\u001b[0m\u001b[0;34m\u001b[0m\u001b[0m\n\u001b[0;32m--> 809\u001b[0;31m             raise ValueError(\n\u001b[0m\u001b[1;32m    810\u001b[0m                 \u001b[0;34m\"The first argument to `Layer.call` must always be passed.\"\u001b[0m\u001b[0;34m\u001b[0m\u001b[0;34m\u001b[0m\u001b[0m\n\u001b[1;32m    811\u001b[0m             )\n",
            "\u001b[0;31mValueError\u001b[0m: The first argument to `Layer.call` must always be passed."
          ]
        }
      ],
      "source": [
        "inputs = keras.Input(shape=(180,180,3))\n",
        "x= data_augmentation()(inputs)\n",
        "x= layers.Rescaling(1./255)()\n",
        "x= layers.Conv2D(filters=32,kernel_size=3,activation='relu')(x)\n",
        "x= layers.MaxPooling2D(pool_size=2)(x)\n",
        "x= layers.Conv2D(filters=64,kernel_size=3,activation='relu')(x)\n",
        "x= layers.MaxPooling2D(pool_size=2)(x)\n",
        "x= layers.Conv2D(filters=128,kernel_size=3,activation='relu')(x)\n",
        "x= layers.MaxPooling2D(pool_size=2)(x)\n",
        "x= layers.Conv2D(filters=256,kernel_size=3,activation='relu')(x)\n",
        "x= layers.MaxPooling2D(pool_size=2)(x)\n",
        "x= layers.Conv2D(filters=256,kernel_size=3,activation='relu')(x)\n",
        "x= layers.Flatten()(x)\n",
        "x= layers.Dense(1,activation='sigmoid')(x)\n",
        "model_aug = keras.Model(inputs=inputs,output=outputs)"
      ]
    },
    {
      "cell_type": "code",
      "execution_count": null,
      "metadata": {
        "id": "6ay8sMZ5IvGG"
      },
      "outputs": [],
      "source": []
    },
    {
      "cell_type": "code",
      "execution_count": null,
      "metadata": {
        "id": "srrYECBCIu7Q"
      },
      "outputs": [],
      "source": []
    },
    {
      "cell_type": "code",
      "execution_count": null,
      "metadata": {
        "id": "-dQCND-zIuwW"
      },
      "outputs": [],
      "source": []
    },
    {
      "cell_type": "code",
      "execution_count": null,
      "metadata": {
        "id": "j7mlJ_LxI922"
      },
      "outputs": [],
      "source": []
    },
    {
      "cell_type": "code",
      "execution_count": null,
      "metadata": {
        "id": "Vt2zVXOaI9uu"
      },
      "outputs": [],
      "source": []
    },
    {
      "cell_type": "code",
      "execution_count": null,
      "metadata": {
        "id": "a-puAGhVI9ke"
      },
      "outputs": [],
      "source": []
    }
  ],
  "metadata": {
    "accelerator": "GPU",
    "colab": {
      "provenance": [],
      "authorship_tag": "ABX9TyM51HU9uF972pfCerZyInQC",
      "include_colab_link": true
    },
    "gpuClass": "standard",
    "kernelspec": {
      "display_name": "Python 3",
      "name": "python3"
    },
    "language_info": {
      "name": "python"
    }
  },
  "nbformat": 4,
  "nbformat_minor": 0
}