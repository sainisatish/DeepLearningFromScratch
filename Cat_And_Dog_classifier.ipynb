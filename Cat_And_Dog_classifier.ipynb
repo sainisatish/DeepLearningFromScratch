{
  "cells": [
    {
      "cell_type": "markdown",
      "metadata": {
        "id": "view-in-github",
        "colab_type": "text"
      },
      "source": [
        "<a href=\"https://colab.research.google.com/github/sainisatish/DeepLearningFromScratch/blob/main/Cat_And_Dog_classifier.ipynb\" target=\"_parent\"><img src=\"https://colab.research.google.com/assets/colab-badge.svg\" alt=\"Open In Colab\"/></a>"
      ]
    },
    {
      "cell_type": "code",
      "execution_count": 21,
      "metadata": {
        "id": "v6WCy5o10UD0"
      },
      "outputs": [],
      "source": [
        "from google.colab import files"
      ]
    },
    {
      "cell_type": "code",
      "execution_count": null,
      "metadata": {
        "id": "wY4uzgFD1_N6"
      },
      "outputs": [],
      "source": [
        "files.upload()"
      ]
    },
    {
      "cell_type": "code",
      "execution_count": 23,
      "metadata": {
        "id": "Y1OY37Vw2CmZ"
      },
      "outputs": [],
      "source": [
        "!mkdir ~/.kaggle\n",
        "!cp kaggle.json ~/.kaggle/\n",
        "!chmod 600 ~/.kaggle/kaggle.json"
      ]
    },
    {
      "cell_type": "code",
      "execution_count": 24,
      "metadata": {
        "colab": {
          "base_uri": "https://localhost:8080/"
        },
        "id": "pfSvnDVW2QjP",
        "outputId": "98eb258d-9650-4584-d350-ff547f1244d1"
      },
      "outputs": [
        {
          "output_type": "stream",
          "name": "stdout",
          "text": [
            "Downloading dogs-vs-cats.zip to /content\n",
            " 99% 802M/812M [00:04<00:00, 209MB/s]\n",
            "100% 812M/812M [00:04<00:00, 205MB/s]\n"
          ]
        }
      ],
      "source": [
        "!kaggle competitions download -c dogs-vs-cats"
      ]
    },
    {
      "cell_type": "code",
      "execution_count": 25,
      "metadata": {
        "id": "s-GP942i2QVs"
      },
      "outputs": [],
      "source": [
        "!unzip -qq dogs-vs-cats.zip"
      ]
    },
    {
      "cell_type": "code",
      "execution_count": 26,
      "metadata": {
        "id": "ejhoTSpz2dzn"
      },
      "outputs": [],
      "source": [
        "!unzip -qq train.zip"
      ]
    },
    {
      "cell_type": "code",
      "execution_count": 27,
      "metadata": {
        "id": "PTNNfy1p2qfB"
      },
      "outputs": [],
      "source": [
        "import os,shutil,pathlib"
      ]
    },
    {
      "cell_type": "code",
      "execution_count": 28,
      "metadata": {
        "id": "wmgO2jhi384k"
      },
      "outputs": [],
      "source": [
        "original_dir = pathlib.Path(\"train\")\n",
        "new_base_dir = pathlib.Path(\"cats_vs_dogs_small\")"
      ]
    },
    {
      "cell_type": "code",
      "execution_count": 29,
      "metadata": {
        "id": "BYBrOlP-_xde"
      },
      "outputs": [],
      "source": [
        "def make_subset(subset_name, start_index, end_index): \n",
        "    for category in (\"cat\", \"dog\"):\n",
        "        dir = new_base_dir / subset_name / category\n",
        "        os.makedirs(dir)\n",
        "        fnames = [f\"{category}.{i}.jpg\" \n",
        "                  for i in range(start_index, end_index)]\n",
        "        for fname in fnames:\n",
        "            shutil.copyfile(src=original_dir / fname,\n",
        "                            dst=dir / fname)"
      ]
    },
    {
      "cell_type": "code",
      "execution_count": 30,
      "metadata": {
        "id": "WWxlw-MpAKLA"
      },
      "outputs": [],
      "source": [
        "make_subset(\"train\", start_index=0, end_index=1000)\n",
        "make_subset(\"validation\", start_index=1000, end_index=1500) \n",
        "make_subset(\"test\", start_index=1500, end_index=2500)"
      ]
    },
    {
      "cell_type": "code",
      "execution_count": 31,
      "metadata": {
        "id": "CiFz33z2AV4P"
      },
      "outputs": [],
      "source": [
        "from tensorflow import keras\n",
        "from tensorflow.keras import layers"
      ]
    },
    {
      "cell_type": "code",
      "execution_count": null,
      "metadata": {
        "id": "XGYZ4kr9Be9q"
      },
      "outputs": [],
      "source": [
        "inputs = keras.Input(shape=(180,180,3))\n",
        "x=layers.Rescaling(1./255)(inputs)\n",
        "x=layers.Conv2D(filters=32,kernel_size=3,activation='relu')(x)\n",
        "x=layers.MaxPooling2D(pool_size=2)(x)\n",
        "x=layers.Conv2D(filters=64,kernel_size=3,activation='relu')(x)\n",
        "x=layers.MaxPooling2D(pool_size=2)(x)\n",
        "x=layers.Conv2D(filters=128,kernel_size=3,activation='relu')(x)\n",
        "x=layers.MaxPooling2D(pool_size=2)(x)\n",
        "x=layers.Conv2D(filters=256,kernel_size=3,activation='relu')(x)\n",
        "x=layers.MaxPooling2D(pool_size=2)(x)\n",
        "x=layers.Conv2D(filters=256,kernel_size=3,activation='relu')(x)\n",
        "x=layers.Flatten()(x)\n",
        "outputs=layers.Dense(1,activation='sigmoid')(x)\n",
        "model = keras.Model(inputs=inputs,outputs=outputs)\n",
        "\n"
      ]
    },
    {
      "cell_type": "code",
      "execution_count": null,
      "metadata": {
        "colab": {
          "base_uri": "https://localhost:8080/"
        },
        "id": "MO--_VAnDjd8",
        "outputId": "1e0f70e6-2c9c-4c2d-ccd0-7f1e387885dc"
      },
      "outputs": [
        {
          "name": "stdout",
          "output_type": "stream",
          "text": [
            "Model: \"model\"\n",
            "_________________________________________________________________\n",
            " Layer (type)                Output Shape              Param #   \n",
            "=================================================================\n",
            " input_1 (InputLayer)        [(None, 180, 180, 3)]     0         \n",
            "                                                                 \n",
            " rescaling (Rescaling)       (None, 180, 180, 3)       0         \n",
            "                                                                 \n",
            " conv2d (Conv2D)             (None, 178, 178, 32)      896       \n",
            "                                                                 \n",
            " max_pooling2d (MaxPooling2D  (None, 89, 89, 32)       0         \n",
            " )                                                               \n",
            "                                                                 \n",
            " conv2d_1 (Conv2D)           (None, 87, 87, 64)        18496     \n",
            "                                                                 \n",
            " max_pooling2d_1 (MaxPooling  (None, 43, 43, 64)       0         \n",
            " 2D)                                                             \n",
            "                                                                 \n",
            " conv2d_2 (Conv2D)           (None, 41, 41, 128)       73856     \n",
            "                                                                 \n",
            " max_pooling2d_2 (MaxPooling  (None, 20, 20, 128)      0         \n",
            " 2D)                                                             \n",
            "                                                                 \n",
            " conv2d_3 (Conv2D)           (None, 18, 18, 256)       295168    \n",
            "                                                                 \n",
            " max_pooling2d_3 (MaxPooling  (None, 9, 9, 256)        0         \n",
            " 2D)                                                             \n",
            "                                                                 \n",
            " conv2d_4 (Conv2D)           (None, 7, 7, 256)         590080    \n",
            "                                                                 \n",
            " flatten (Flatten)           (None, 12544)             0         \n",
            "                                                                 \n",
            " dense (Dense)               (None, 1)                 12545     \n",
            "                                                                 \n",
            "=================================================================\n",
            "Total params: 991,041\n",
            "Trainable params: 991,041\n",
            "Non-trainable params: 0\n",
            "_________________________________________________________________\n"
          ]
        }
      ],
      "source": [
        "model.summary()"
      ]
    },
    {
      "cell_type": "code",
      "execution_count": null,
      "metadata": {
        "id": "Jdh1vBHCD1ru"
      },
      "outputs": [],
      "source": [
        "model.compile(optimizer='rmsprop',\n",
        "              loss='binary_crossentropy',\n",
        "              metrics='accuracy')"
      ]
    },
    {
      "cell_type": "code",
      "execution_count": 41,
      "metadata": {
        "id": "_ma2ABCrHMbS"
      },
      "outputs": [],
      "source": [
        "from tensorflow.keras.utils import image_dataset_from_directory "
      ]
    },
    {
      "cell_type": "code",
      "execution_count": 42,
      "metadata": {
        "colab": {
          "base_uri": "https://localhost:8080/"
        },
        "id": "q2J8ZMjzHbdJ",
        "outputId": "2e8127b1-824d-4d07-f3a4-48fe0d646cd9"
      },
      "outputs": [
        {
          "output_type": "stream",
          "name": "stdout",
          "text": [
            "Found 2000 files belonging to 2 classes.\n",
            "Found 1000 files belonging to 2 classes.\n",
            "Found 2000 files belonging to 2 classes.\n"
          ]
        }
      ],
      "source": [
        "train_dataset=image_dataset_from_directory(new_base_dir/\"train\",\n",
        "                                           image_size=(180,180),\n",
        "                                           batch_size=32)\n",
        "\n",
        "validation_dataset = image_dataset_from_directory(new_base_dir /\"validation\",\n",
        "                                                  image_size=(180,180),\n",
        "                                                  batch_size=32)\n",
        "\n",
        "test_size = image_dataset_from_directory(new_base_dir /\"test\",\n",
        "                                         image_size=(180,180),\n",
        "                                         batch_size=32)"
      ]
    },
    {
      "cell_type": "code",
      "execution_count": null,
      "metadata": {
        "colab": {
          "base_uri": "https://localhost:8080/"
        },
        "id": "KH2wI9kpIhUO",
        "outputId": "d81b3d3f-8381-4535-9c3b-16b3f4b4bf2e"
      },
      "outputs": [
        {
          "output_type": "stream",
          "name": "stdout",
          "text": [
            "data batch shape (32, 180, 180, 3)\n",
            "label batch shape (32,)\n"
          ]
        }
      ],
      "source": [
        "for data_batch,label_batch in train_dataset:\n",
        "    print(f\"data batch shape {data_batch.shape}\")\n",
        "    print(f\"label batch shape { label_batch.shape}\")\n",
        "    break"
      ]
    },
    {
      "cell_type": "code",
      "execution_count": null,
      "metadata": {
        "id": "dvnIRiVj-yKl"
      },
      "outputs": [],
      "source": [
        "callbacks = [keras.callbacks.ModelCheckpoint(filepath=\"convnet_from_scratch.keras\",save_best_only=True,monitor=\"val_loss\")]"
      ]
    },
    {
      "cell_type": "code",
      "execution_count": null,
      "metadata": {
        "colab": {
          "base_uri": "https://localhost:8080/"
        },
        "id": "IJoP8run-3SD",
        "outputId": "c4b1b7cc-c280-473c-9295-6139613a3719"
      },
      "outputs": [
        {
          "name": "stdout",
          "output_type": "stream",
          "text": [
            "Epoch 1/30\n",
            "63/63 [==============================] - 15s 73ms/step - loss: 0.6978 - accuracy: 0.5120 - val_loss: 0.6917 - val_accuracy: 0.5000\n",
            "Epoch 2/30\n",
            "63/63 [==============================] - 4s 62ms/step - loss: 0.6937 - accuracy: 0.5370 - val_loss: 0.6956 - val_accuracy: 0.5070\n",
            "Epoch 3/30\n",
            "63/63 [==============================] - 5s 75ms/step - loss: 0.6744 - accuracy: 0.6025 - val_loss: 0.6554 - val_accuracy: 0.6310\n",
            "Epoch 4/30\n",
            "63/63 [==============================] - 4s 62ms/step - loss: 0.6519 - accuracy: 0.6435 - val_loss: 0.6247 - val_accuracy: 0.6510\n",
            "Epoch 5/30\n",
            "63/63 [==============================] - 6s 85ms/step - loss: 0.6288 - accuracy: 0.6535 - val_loss: 0.6228 - val_accuracy: 0.6460\n",
            "Epoch 6/30\n",
            "63/63 [==============================] - 4s 63ms/step - loss: 0.5947 - accuracy: 0.6805 - val_loss: 0.5969 - val_accuracy: 0.6820\n",
            "Epoch 7/30\n",
            "63/63 [==============================] - 5s 79ms/step - loss: 0.5757 - accuracy: 0.6945 - val_loss: 0.6570 - val_accuracy: 0.6540\n",
            "Epoch 8/30\n",
            "63/63 [==============================] - 5s 72ms/step - loss: 0.5241 - accuracy: 0.7325 - val_loss: 0.5953 - val_accuracy: 0.6870\n",
            "Epoch 9/30\n",
            "63/63 [==============================] - 5s 64ms/step - loss: 0.5529 - accuracy: 0.7575 - val_loss: 0.5359 - val_accuracy: 0.7420\n",
            "Epoch 10/30\n",
            "63/63 [==============================] - 4s 61ms/step - loss: 0.4332 - accuracy: 0.8070 - val_loss: 0.6178 - val_accuracy: 0.7200\n",
            "Epoch 11/30\n",
            "63/63 [==============================] - 5s 75ms/step - loss: 0.4113 - accuracy: 0.8195 - val_loss: 0.6234 - val_accuracy: 0.6950\n",
            "Epoch 12/30\n",
            "63/63 [==============================] - 4s 61ms/step - loss: 0.3568 - accuracy: 0.8405 - val_loss: 0.7227 - val_accuracy: 0.6990\n",
            "Epoch 13/30\n",
            "63/63 [==============================] - 4s 62ms/step - loss: 0.2931 - accuracy: 0.8785 - val_loss: 0.8533 - val_accuracy: 0.6940\n",
            "Epoch 14/30\n",
            "63/63 [==============================] - 5s 79ms/step - loss: 0.2455 - accuracy: 0.8975 - val_loss: 0.9554 - val_accuracy: 0.7100\n",
            "Epoch 15/30\n",
            "63/63 [==============================] - 4s 62ms/step - loss: 0.1833 - accuracy: 0.9240 - val_loss: 0.8342 - val_accuracy: 0.7360\n",
            "Epoch 16/30\n",
            "63/63 [==============================] - 5s 70ms/step - loss: 0.1444 - accuracy: 0.9395 - val_loss: 0.8707 - val_accuracy: 0.7370\n",
            "Epoch 17/30\n",
            "63/63 [==============================] - 5s 63ms/step - loss: 0.1211 - accuracy: 0.9590 - val_loss: 0.9328 - val_accuracy: 0.7410\n",
            "Epoch 18/30\n",
            "63/63 [==============================] - 4s 60ms/step - loss: 0.0874 - accuracy: 0.9665 - val_loss: 1.1053 - val_accuracy: 0.7460\n",
            "Epoch 19/30\n",
            "63/63 [==============================] - 5s 76ms/step - loss: 0.0985 - accuracy: 0.9645 - val_loss: 1.1478 - val_accuracy: 0.7260\n",
            "Epoch 20/30\n",
            "63/63 [==============================] - 4s 62ms/step - loss: 0.0743 - accuracy: 0.9760 - val_loss: 1.2079 - val_accuracy: 0.7300\n",
            "Epoch 21/30\n",
            "63/63 [==============================] - 4s 62ms/step - loss: 0.0666 - accuracy: 0.9790 - val_loss: 1.2162 - val_accuracy: 0.7410\n",
            "Epoch 22/30\n",
            "63/63 [==============================] - 5s 78ms/step - loss: 0.0635 - accuracy: 0.9770 - val_loss: 1.3987 - val_accuracy: 0.7360\n",
            "Epoch 23/30\n",
            "63/63 [==============================] - 4s 61ms/step - loss: 0.0353 - accuracy: 0.9900 - val_loss: 1.6204 - val_accuracy: 0.7290\n",
            "Epoch 24/30\n",
            "63/63 [==============================] - 4s 61ms/step - loss: 0.0547 - accuracy: 0.9835 - val_loss: 1.6473 - val_accuracy: 0.7310\n",
            "Epoch 25/30\n",
            "63/63 [==============================] - 4s 61ms/step - loss: 0.0333 - accuracy: 0.9900 - val_loss: 1.7759 - val_accuracy: 0.7340\n",
            "Epoch 26/30\n",
            "63/63 [==============================] - 4s 62ms/step - loss: 0.0677 - accuracy: 0.9790 - val_loss: 1.6256 - val_accuracy: 0.7310\n",
            "Epoch 27/30\n",
            "63/63 [==============================] - 5s 77ms/step - loss: 0.0297 - accuracy: 0.9910 - val_loss: 2.4296 - val_accuracy: 0.7060\n",
            "Epoch 28/30\n",
            "63/63 [==============================] - 4s 62ms/step - loss: 0.0568 - accuracy: 0.9835 - val_loss: 1.7396 - val_accuracy: 0.7060\n",
            "Epoch 29/30\n",
            "63/63 [==============================] - 4s 61ms/step - loss: 0.0626 - accuracy: 0.9800 - val_loss: 2.3901 - val_accuracy: 0.6830\n",
            "Epoch 30/30\n",
            "63/63 [==============================] - 5s 77ms/step - loss: 0.0293 - accuracy: 0.9895 - val_loss: 2.7800 - val_accuracy: 0.7050\n"
          ]
        }
      ],
      "source": [
        "history = model.fit(train_dataset,epochs=30,validation_data=validation_dataset,callbacks=callbacks)"
      ]
    },
    {
      "cell_type": "code",
      "execution_count": null,
      "metadata": {
        "colab": {
          "base_uri": "https://localhost:8080/"
        },
        "id": "tlgYKvuVF2b6",
        "outputId": "29ad2205-b004-4f62-91ee-4ebdb49311a3"
      },
      "outputs": [
        {
          "name": "stdout",
          "output_type": "stream",
          "text": [
            "dict_keys(['loss', 'accuracy', 'val_loss', 'val_accuracy'])\n"
          ]
        }
      ],
      "source": [
        "print(history.history.keys())"
      ]
    },
    {
      "cell_type": "code",
      "execution_count": null,
      "metadata": {
        "id": "aTblE9GCC8Au"
      },
      "outputs": [],
      "source": [
        "import matplotlib.pyplot as plt"
      ]
    },
    {
      "cell_type": "code",
      "execution_count": null,
      "metadata": {
        "id": "Zie1CIucDLhZ"
      },
      "outputs": [],
      "source": [
        "accuracy,val_accuracy,loss,val_loss = history.history[\"accuracy\"],history.history[\"val_accuracy\"],history.history[\"loss\"],history.history[\"val_loss\"]"
      ]
    },
    {
      "cell_type": "code",
      "execution_count": null,
      "metadata": {
        "colab": {
          "base_uri": "https://localhost:8080/",
          "height": 545
        },
        "id": "vSerenHcDscn",
        "outputId": "57c3d667-8efd-447f-da40-8f752ea62697"
      },
      "outputs": [
        {
          "data": {
            "image/png": "[encoded data removed]",
            "text/plain": [
              "<Figure size 432x288 with 1 Axes>"
            ]
          },
          "metadata": {},
          "output_type": "display_data"
        },
        {
          "data": {
            "image/png": "[encoded data removed]",
            "text/plain": [
              "<Figure size 432x288 with 1 Axes>"
            ]
          },
          "metadata": {},
          "output_type": "display_data"
        }
      ],
      "source": [
        "epochs = range(1,len(accuracy)+1)\n",
        "plt.plot(epochs, accuracy, \"bo\", label=\"Training accuracy\")\n",
        "plt.plot(epochs, val_accuracy, \"b\", label=\"Validation accuracy\")\n",
        "plt.title(\"Training and validation accuracy\")\n",
        "plt.legend()\n",
        "plt.figure()\n",
        "plt.plot(epochs, loss, \"bo\", label=\"Training loss\")\n",
        "plt.plot(epochs, val_loss, \"b\", label=\"Validation loss\")\n",
        "plt.title(\"Training and validation loss\")\n",
        "plt.legend()\n",
        "plt.show()"
      ]
    },
    {
      "cell_type": "code",
      "execution_count": null,
      "metadata": {
        "colab": {
          "base_uri": "https://localhost:8080/"
        },
        "id": "3uVwh7iKD_Fr",
        "outputId": "fc0c9b2d-5563-4cb4-98ee-7aa0dfe6608a"
      },
      "outputs": [
        {
          "name": "stdout",
          "output_type": "stream",
          "text": [
            "63/63 [==============================] - 4s 43ms/step - loss: 2.9484 - accuracy: 0.6895\n"
          ]
        }
      ],
      "source": [
        "test_loss,test_acc = model.evaluate(test_size)"
      ]
    },
    {
      "cell_type": "markdown",
      "source": [
        "Performing Data Augmentation "
      ],
      "metadata": {
        "id": "e3SNQ2dwKrSx"
      }
    },
    {
      "cell_type": "code",
      "execution_count": null,
      "metadata": {
        "id": "F2oWmkDBEyHP"
      },
      "outputs": [],
      "source": [
        "data_augmentation = keras.Sequential(\n",
        "    [\n",
        "        layers.RandomFlip(\"horizontal\"),\n",
        "        layers.RandomRotation(0.1),\n",
        "        layers.RandomZoom(0.2),\n",
        "    ]\n",
        "    )"
      ]
    },
    {
      "cell_type": "code",
      "execution_count": null,
      "metadata": {
        "colab": {
          "base_uri": "https://localhost:8080/"
        },
        "id": "1LVCtGcuIvaG",
        "outputId": "3c62ef0f-cc9a-4ec7-e9f3-45f00ff67eef"
      },
      "outputs": [
        {
          "output_type": "stream",
          "name": "stderr",
          "text": [
            "WARNING:tensorflow:Using a while_loop for converting RngReadAndSkip cause there is no registered converter for this op.\n",
            "WARNING:tensorflow:Using a while_loop for converting Bitcast cause there is no registered converter for this op.\n",
            "WARNING:tensorflow:Using a while_loop for converting Bitcast cause there is no registered converter for this op.\n",
            "WARNING:tensorflow:Using a while_loop for converting StatelessRandomUniformV2 cause there is no registered converter for this op.\n",
            "WARNING:tensorflow:Using a while_loop for converting ImageProjectiveTransformV3 cause there is no registered converter for this op.\n",
            "WARNING:tensorflow:Using a while_loop for converting RngReadAndSkip cause there is no registered converter for this op.\n",
            "WARNING:tensorflow:Using a while_loop for converting Bitcast cause there is no registered converter for this op.\n",
            "WARNING:tensorflow:Using a while_loop for converting Bitcast cause there is no registered converter for this op.\n",
            "WARNING:tensorflow:Using a while_loop for converting StatelessRandomUniformV2 cause there is no registered converter for this op.\n",
            "WARNING:tensorflow:Using a while_loop for converting ImageProjectiveTransformV3 cause there is no registered converter for this op.\n"
          ]
        }
      ],
      "source": [
        "inputs = keras.Input(shape=(180,180,3))\n",
        "x= data_augmentation(inputs)\n",
        "x= layers.Rescaling(1./255)(x)\n",
        "x= layers.Conv2D(filters=32,kernel_size=3,activation='relu')(x)\n",
        "x= layers.MaxPooling2D(pool_size=2)(x)\n",
        "x= layers.Conv2D(filters=64,kernel_size=3,activation='relu')(x)\n",
        "x= layers.MaxPooling2D(pool_size=2)(x)\n",
        "x= layers.Conv2D(filters=128,kernel_size=3,activation='relu')(x)\n",
        "x= layers.MaxPooling2D(pool_size=2)(x)\n",
        "x= layers.Conv2D(filters=256,kernel_size=3,activation='relu')(x)\n",
        "x= layers.MaxPooling2D(pool_size=2)(x)\n",
        "x= layers.Conv2D(filters=256,kernel_size=3,activation='relu')(x)\n",
        "x= layers.Flatten()(x)\n",
        "outputs= layers.Dense(1,activation='sigmoid')(x)\n",
        "model_aug = keras.Model(inputs=inputs,outputs=outputs)"
      ]
    },
    {
      "cell_type": "code",
      "execution_count": null,
      "metadata": {
        "id": "6ay8sMZ5IvGG"
      },
      "outputs": [],
      "source": [
        "model_aug.compile(loss=\"binary_crossentropy\",\n",
        "              optimizer=\"rmsprop\",\n",
        "              metrics=[\"accuracy\"])"
      ]
    },
    {
      "cell_type": "code",
      "execution_count": null,
      "metadata": {
        "id": "srrYECBCIu7Q"
      },
      "outputs": [],
      "source": [
        " callbacks = [(keras.callbacks.ModelCheckpoint(filepath=\"augment_model.keras\",save_best_only=True,monitor=\"val_loss\"))]"
      ]
    },
    {
      "cell_type": "code",
      "execution_count": null,
      "metadata": {
        "id": "-dQCND-zIuwW",
        "colab": {
          "base_uri": "https://localhost:8080/"
        },
        "outputId": "854e0277-7ef4-4f99-8853-e985464f1479"
      },
      "outputs": [
        {
          "metadata": {
            "tags": null
          },
          "name": "stdout",
          "output_type": "stream",
          "text": [
            "Epoch 1/100\n"
          ]
        },
        {
          "metadata": {
            "tags": null
          },
          "name": "stderr",
          "output_type": "stream",
          "text": [
            "WARNING:tensorflow:Using a while_loop for converting RngReadAndSkip cause there is no registered converter for this op.\n",
            "WARNING:tensorflow:Using a while_loop for converting Bitcast cause there is no registered converter for this op.\n",
            "WARNING:tensorflow:Using a while_loop for converting Bitcast cause there is no registered converter for this op.\n",
            "WARNING:tensorflow:Using a while_loop for converting StatelessRandomUniformV2 cause there is no registered converter for this op.\n",
            "WARNING:tensorflow:Using a while_loop for converting ImageProjectiveTransformV3 cause there is no registered converter for this op.\n",
            "WARNING:tensorflow:Using a while_loop for converting RngReadAndSkip cause there is no registered converter for this op.\n",
            "WARNING:tensorflow:Using a while_loop for converting Bitcast cause there is no registered converter for this op.\n",
            "WARNING:tensorflow:Using a while_loop for converting Bitcast cause there is no registered converter for this op.\n",
            "WARNING:tensorflow:Using a while_loop for converting StatelessRandomUniformV2 cause there is no registered converter for this op.\n",
            "WARNING:tensorflow:Using a while_loop for converting ImageProjectiveTransformV3 cause there is no registered converter for this op.\n",
            "WARNING:tensorflow:Using a while_loop for converting RngReadAndSkip cause there is no registered converter for this op.\n",
            "WARNING:tensorflow:Using a while_loop for converting Bitcast cause there is no registered converter for this op.\n",
            "WARNING:tensorflow:Using a while_loop for converting Bitcast cause there is no registered converter for this op.\n",
            "WARNING:tensorflow:Using a while_loop for converting StatelessRandomUniformV2 cause there is no registered converter for this op.\n",
            "WARNING:tensorflow:Using a while_loop for converting ImageProjectiveTransformV3 cause there is no registered converter for this op.\n",
            "WARNING:tensorflow:Using a while_loop for converting RngReadAndSkip cause there is no registered converter for this op.\n",
            "WARNING:tensorflow:Using a while_loop for converting Bitcast cause there is no registered converter for this op.\n",
            "WARNING:tensorflow:Using a while_loop for converting Bitcast cause there is no registered converter for this op.\n",
            "WARNING:tensorflow:Using a while_loop for converting StatelessRandomUniformV2 cause there is no registered converter for this op.\n",
            "WARNING:tensorflow:Using a while_loop for converting ImageProjectiveTransformV3 cause there is no registered converter for this op.\n"
          ]
        },
        {
          "output_type": "stream",
          "name": "stdout",
          "text": [
            "63/63 [==============================] - 27s 234ms/step - loss: 0.6970 - accuracy: 0.4970 - val_loss: 0.6923 - val_accuracy: 0.5020\n",
            "Epoch 2/100\n",
            "63/63 [==============================] - 13s 205ms/step - loss: 0.6927 - accuracy: 0.5195 - val_loss: 0.6867 - val_accuracy: 0.5880\n",
            "Epoch 3/100\n",
            "63/63 [==============================] - 14s 215ms/step - loss: 0.6850 - accuracy: 0.5715 - val_loss: 0.6612 - val_accuracy: 0.5990\n",
            "Epoch 4/100\n",
            "63/63 [==============================] - 13s 204ms/step - loss: 0.6635 - accuracy: 0.6215 - val_loss: 0.6706 - val_accuracy: 0.6270\n",
            "Epoch 5/100\n",
            "63/63 [==============================] - 15s 229ms/step - loss: 0.6219 - accuracy: 0.6595 - val_loss: 0.6228 - val_accuracy: 0.6570\n",
            "Epoch 6/100\n",
            "63/63 [==============================] - 13s 208ms/step - loss: 0.6108 - accuracy: 0.6830 - val_loss: 0.6341 - val_accuracy: 0.6430\n",
            "Epoch 7/100\n",
            "63/63 [==============================] - 13s 207ms/step - loss: 0.5915 - accuracy: 0.6800 - val_loss: 0.6330 - val_accuracy: 0.6750\n",
            "Epoch 8/100\n",
            "63/63 [==============================] - 13s 208ms/step - loss: 0.5912 - accuracy: 0.7010 - val_loss: 0.5789 - val_accuracy: 0.6880\n",
            "Epoch 9/100\n",
            "63/63 [==============================] - 13s 207ms/step - loss: 0.5699 - accuracy: 0.6980 - val_loss: 0.5636 - val_accuracy: 0.7140\n",
            "Epoch 10/100\n",
            "63/63 [==============================] - 13s 208ms/step - loss: 0.5737 - accuracy: 0.7085 - val_loss: 0.5716 - val_accuracy: 0.7080\n",
            "Epoch 11/100\n",
            "63/63 [==============================] - 13s 207ms/step - loss: 0.5410 - accuracy: 0.7205 - val_loss: 0.5379 - val_accuracy: 0.7340\n",
            "Epoch 12/100\n",
            "63/63 [==============================] - 13s 205ms/step - loss: 0.5224 - accuracy: 0.7465 - val_loss: 0.5508 - val_accuracy: 0.7410\n",
            "Epoch 13/100\n",
            "63/63 [==============================] - 13s 206ms/step - loss: 0.5175 - accuracy: 0.7475 - val_loss: 0.5275 - val_accuracy: 0.7330\n",
            "Epoch 14/100\n",
            "63/63 [==============================] - 13s 208ms/step - loss: 0.5075 - accuracy: 0.7480 - val_loss: 0.9244 - val_accuracy: 0.6610\n",
            "Epoch 15/100\n",
            "63/63 [==============================] - 13s 207ms/step - loss: 0.5002 - accuracy: 0.7600 - val_loss: 0.5309 - val_accuracy: 0.7450\n",
            "Epoch 16/100\n",
            "63/63 [==============================] - 13s 208ms/step - loss: 0.4842 - accuracy: 0.7680 - val_loss: 0.6949 - val_accuracy: 0.6850\n",
            "Epoch 17/100\n",
            "63/63 [==============================] - 13s 206ms/step - loss: 0.4865 - accuracy: 0.7685 - val_loss: 0.5183 - val_accuracy: 0.7450\n",
            "Epoch 18/100\n",
            "63/63 [==============================] - 13s 208ms/step - loss: 0.4480 - accuracy: 0.7800 - val_loss: 0.5630 - val_accuracy: 0.7580\n",
            "Epoch 19/100\n",
            "63/63 [==============================] - 13s 205ms/step - loss: 0.4484 - accuracy: 0.7885 - val_loss: 0.4779 - val_accuracy: 0.7750\n",
            "Epoch 20/100\n",
            "63/63 [==============================] - 13s 206ms/step - loss: 0.4420 - accuracy: 0.7885 - val_loss: 0.5879 - val_accuracy: 0.7230\n",
            "Epoch 21/100\n",
            "63/63 [==============================] - 13s 206ms/step - loss: 0.4151 - accuracy: 0.8100 - val_loss: 0.4890 - val_accuracy: 0.7820\n",
            "Epoch 22/100\n",
            "63/63 [==============================] - 13s 208ms/step - loss: 0.4090 - accuracy: 0.8100 - val_loss: 0.5286 - val_accuracy: 0.7580\n",
            "Epoch 23/100\n",
            "63/63 [==============================] - 13s 205ms/step - loss: 0.3991 - accuracy: 0.8210 - val_loss: 0.5062 - val_accuracy: 0.7830\n",
            "Epoch 24/100\n",
            "63/63 [==============================] - 13s 210ms/step - loss: 0.3888 - accuracy: 0.8295 - val_loss: 0.6364 - val_accuracy: 0.7440\n",
            "Epoch 25/100\n",
            "63/63 [==============================] - 13s 205ms/step - loss: 0.3732 - accuracy: 0.8365 - val_loss: 0.5859 - val_accuracy: 0.7540\n",
            "Epoch 26/100\n",
            "63/63 [==============================] - 13s 208ms/step - loss: 0.3475 - accuracy: 0.8475 - val_loss: 0.6952 - val_accuracy: 0.7400\n",
            "Epoch 27/100\n",
            "63/63 [==============================] - 13s 208ms/step - loss: 0.3572 - accuracy: 0.8435 - val_loss: 0.6586 - val_accuracy: 0.7560\n",
            "Epoch 28/100\n",
            "63/63 [==============================] - 13s 207ms/step - loss: 0.3320 - accuracy: 0.8565 - val_loss: 0.6201 - val_accuracy: 0.7250\n",
            "Epoch 29/100\n",
            "63/63 [==============================] - 13s 208ms/step - loss: 0.3482 - accuracy: 0.8480 - val_loss: 0.6160 - val_accuracy: 0.7670\n",
            "Epoch 30/100\n",
            "63/63 [==============================] - 13s 208ms/step - loss: 0.3210 - accuracy: 0.8635 - val_loss: 0.4737 - val_accuracy: 0.8060\n",
            "Epoch 31/100\n",
            "63/63 [==============================] - 13s 206ms/step - loss: 0.2882 - accuracy: 0.8750 - val_loss: 0.6870 - val_accuracy: 0.7760\n",
            "Epoch 32/100\n",
            "63/63 [==============================] - 15s 232ms/step - loss: 0.3017 - accuracy: 0.8735 - val_loss: 0.5451 - val_accuracy: 0.8030\n",
            "Epoch 33/100\n",
            "63/63 [==============================] - 13s 209ms/step - loss: 0.2833 - accuracy: 0.8890 - val_loss: 0.5480 - val_accuracy: 0.8030\n",
            "Epoch 34/100\n",
            "63/63 [==============================] - 14s 214ms/step - loss: 0.2835 - accuracy: 0.8880 - val_loss: 0.5921 - val_accuracy: 0.7920\n",
            "Epoch 35/100\n",
            "63/63 [==============================] - 13s 210ms/step - loss: 0.2681 - accuracy: 0.8970 - val_loss: 0.5782 - val_accuracy: 0.8060\n",
            "Epoch 36/100\n",
            "63/63 [==============================] - 13s 205ms/step - loss: 0.2657 - accuracy: 0.8945 - val_loss: 0.6912 - val_accuracy: 0.7630\n",
            "Epoch 37/100\n",
            "63/63 [==============================] - 13s 207ms/step - loss: 0.2557 - accuracy: 0.8960 - val_loss: 0.6320 - val_accuracy: 0.7910\n",
            "Epoch 38/100\n",
            "63/63 [==============================] - 13s 208ms/step - loss: 0.2466 - accuracy: 0.8990 - val_loss: 0.6703 - val_accuracy: 0.7830\n",
            "Epoch 39/100\n",
            "63/63 [==============================] - 13s 208ms/step - loss: 0.2405 - accuracy: 0.9040 - val_loss: 0.5746 - val_accuracy: 0.7740\n",
            "Epoch 40/100\n",
            "63/63 [==============================] - 13s 206ms/step - loss: 0.2154 - accuracy: 0.9080 - val_loss: 0.9902 - val_accuracy: 0.7770\n",
            "Epoch 41/100\n",
            "63/63 [==============================] - 13s 207ms/step - loss: 0.2141 - accuracy: 0.9225 - val_loss: 0.6428 - val_accuracy: 0.7850\n",
            "Epoch 42/100\n",
            "63/63 [==============================] - 13s 208ms/step - loss: 0.1985 - accuracy: 0.9210 - val_loss: 0.6527 - val_accuracy: 0.8140\n",
            "Epoch 43/100\n",
            "63/63 [==============================] - 13s 206ms/step - loss: 0.2007 - accuracy: 0.9240 - val_loss: 0.7746 - val_accuracy: 0.7810\n",
            "Epoch 44/100\n",
            "63/63 [==============================] - 13s 206ms/step - loss: 0.2085 - accuracy: 0.9240 - val_loss: 0.7128 - val_accuracy: 0.7850\n",
            "Epoch 45/100\n",
            "63/63 [==============================] - 13s 207ms/step - loss: 0.2007 - accuracy: 0.9140 - val_loss: 0.6215 - val_accuracy: 0.8120\n",
            "Epoch 46/100\n",
            "63/63 [==============================] - 13s 205ms/step - loss: 0.1753 - accuracy: 0.9335 - val_loss: 0.6717 - val_accuracy: 0.7990\n",
            "Epoch 47/100\n",
            "63/63 [==============================] - 14s 211ms/step - loss: 0.1608 - accuracy: 0.9425 - val_loss: 0.8112 - val_accuracy: 0.7640\n",
            "Epoch 48/100\n",
            "63/63 [==============================] - 13s 204ms/step - loss: 0.1566 - accuracy: 0.9350 - val_loss: 0.6642 - val_accuracy: 0.8020\n",
            "Epoch 49/100\n",
            "63/63 [==============================] - 13s 208ms/step - loss: 0.1783 - accuracy: 0.9375 - val_loss: 0.8663 - val_accuracy: 0.7910\n",
            "Epoch 50/100\n",
            "63/63 [==============================] - 13s 204ms/step - loss: 0.1697 - accuracy: 0.9390 - val_loss: 0.6945 - val_accuracy: 0.7980\n",
            "Epoch 51/100\n",
            "63/63 [==============================] - 13s 205ms/step - loss: 0.1634 - accuracy: 0.9405 - val_loss: 0.9105 - val_accuracy: 0.7860\n",
            "Epoch 52/100\n",
            "63/63 [==============================] - 13s 205ms/step - loss: 0.1485 - accuracy: 0.9465 - val_loss: 0.6337 - val_accuracy: 0.7960\n",
            "Epoch 53/100\n",
            "63/63 [==============================] - 13s 206ms/step - loss: 0.1440 - accuracy: 0.9440 - val_loss: 0.6270 - val_accuracy: 0.8100\n",
            "Epoch 54/100\n",
            "63/63 [==============================] - 13s 207ms/step - loss: 0.1326 - accuracy: 0.9500 - val_loss: 0.8960 - val_accuracy: 0.7770\n",
            "Epoch 55/100\n",
            "63/63 [==============================] - 13s 207ms/step - loss: 0.1640 - accuracy: 0.9425 - val_loss: 0.6704 - val_accuracy: 0.8160\n",
            "Epoch 56/100\n",
            "63/63 [==============================] - 13s 206ms/step - loss: 0.1318 - accuracy: 0.9465 - val_loss: 0.8876 - val_accuracy: 0.8050\n",
            "Epoch 57/100\n",
            "63/63 [==============================] - 13s 203ms/step - loss: 0.1528 - accuracy: 0.9500 - val_loss: 0.7811 - val_accuracy: 0.8120\n",
            "Epoch 58/100\n",
            "63/63 [==============================] - 13s 203ms/step - loss: 0.1227 - accuracy: 0.9535 - val_loss: 0.7534 - val_accuracy: 0.7870\n",
            "Epoch 59/100\n",
            "63/63 [==============================] - 13s 205ms/step - loss: 0.1302 - accuracy: 0.9550 - val_loss: 0.9930 - val_accuracy: 0.7800\n",
            "Epoch 60/100\n",
            "63/63 [==============================] - 13s 205ms/step - loss: 0.1210 - accuracy: 0.9555 - val_loss: 0.7985 - val_accuracy: 0.8090\n",
            "Epoch 61/100\n",
            "63/63 [==============================] - 13s 205ms/step - loss: 0.1076 - accuracy: 0.9635 - val_loss: 0.8968 - val_accuracy: 0.8100\n",
            "Epoch 62/100\n",
            "63/63 [==============================] - 15s 227ms/step - loss: 0.1038 - accuracy: 0.9625 - val_loss: 1.0589 - val_accuracy: 0.7800\n",
            "Epoch 63/100\n",
            "63/63 [==============================] - 13s 208ms/step - loss: 0.1250 - accuracy: 0.9550 - val_loss: 1.0676 - val_accuracy: 0.7340\n",
            "Epoch 64/100\n",
            "63/63 [==============================] - 13s 207ms/step - loss: 0.1150 - accuracy: 0.9560 - val_loss: 0.9520 - val_accuracy: 0.7820\n",
            "Epoch 65/100\n",
            "63/63 [==============================] - 13s 206ms/step - loss: 0.1338 - accuracy: 0.9535 - val_loss: 0.9258 - val_accuracy: 0.8080\n",
            "Epoch 66/100\n",
            "63/63 [==============================] - 14s 213ms/step - loss: 0.0886 - accuracy: 0.9705 - val_loss: 1.3108 - val_accuracy: 0.7880\n",
            "Epoch 67/100\n",
            "63/63 [==============================] - 13s 207ms/step - loss: 0.1285 - accuracy: 0.9590 - val_loss: 0.9757 - val_accuracy: 0.7970\n",
            "Epoch 68/100\n",
            "63/63 [==============================] - 13s 203ms/step - loss: 0.1168 - accuracy: 0.9535 - val_loss: 1.0262 - val_accuracy: 0.7800\n",
            "Epoch 69/100\n",
            "63/63 [==============================] - 13s 203ms/step - loss: 0.1021 - accuracy: 0.9625 - val_loss: 0.9514 - val_accuracy: 0.7990\n",
            "Epoch 70/100\n",
            "63/63 [==============================] - 13s 200ms/step - loss: 0.1183 - accuracy: 0.9625 - val_loss: 1.2326 - val_accuracy: 0.7810\n",
            "Epoch 71/100\n",
            "63/63 [==============================] - 13s 203ms/step - loss: 0.1031 - accuracy: 0.9665 - val_loss: 0.9443 - val_accuracy: 0.8160\n",
            "Epoch 72/100\n",
            "63/63 [==============================] - 13s 202ms/step - loss: 0.1011 - accuracy: 0.9685 - val_loss: 0.9262 - val_accuracy: 0.8180\n",
            "Epoch 73/100\n",
            "63/63 [==============================] - 13s 201ms/step - loss: 0.0879 - accuracy: 0.9725 - val_loss: 1.5521 - val_accuracy: 0.7710\n",
            "Epoch 74/100\n",
            "63/63 [==============================] - 13s 201ms/step - loss: 0.1224 - accuracy: 0.9615 - val_loss: 1.0413 - val_accuracy: 0.7890\n",
            "Epoch 75/100\n",
            "63/63 [==============================] - 13s 201ms/step - loss: 0.0970 - accuracy: 0.9630 - val_loss: 0.9867 - val_accuracy: 0.8030\n",
            "Epoch 76/100\n",
            "63/63 [==============================] - 13s 204ms/step - loss: 0.0927 - accuracy: 0.9670 - val_loss: 1.1988 - val_accuracy: 0.7840\n",
            "Epoch 77/100\n",
            "63/63 [==============================] - 13s 204ms/step - loss: 0.1075 - accuracy: 0.9620 - val_loss: 0.7191 - val_accuracy: 0.8130\n",
            "Epoch 78/100\n",
            "63/63 [==============================] - 13s 204ms/step - loss: 0.0873 - accuracy: 0.9680 - val_loss: 1.1592 - val_accuracy: 0.7940\n",
            "Epoch 79/100\n",
            "63/63 [==============================] - 13s 201ms/step - loss: 0.1091 - accuracy: 0.9645 - val_loss: 1.0450 - val_accuracy: 0.7990\n",
            "Epoch 80/100\n",
            "63/63 [==============================] - 13s 200ms/step - loss: 0.0991 - accuracy: 0.9675 - val_loss: 0.9264 - val_accuracy: 0.8310\n",
            "Epoch 81/100\n",
            "63/63 [==============================] - 13s 201ms/step - loss: 0.0732 - accuracy: 0.9760 - val_loss: 4.2227 - val_accuracy: 0.6850\n",
            "Epoch 82/100\n",
            "63/63 [==============================] - 13s 204ms/step - loss: 0.1158 - accuracy: 0.9690 - val_loss: 1.3219 - val_accuracy: 0.7630\n",
            "Epoch 83/100\n",
            "63/63 [==============================] - 13s 204ms/step - loss: 0.0993 - accuracy: 0.9645 - val_loss: 1.0687 - val_accuracy: 0.8090\n",
            "Epoch 84/100\n",
            "63/63 [==============================] - 13s 200ms/step - loss: 0.1135 - accuracy: 0.9675 - val_loss: 1.0056 - val_accuracy: 0.8040\n",
            "Epoch 85/100\n",
            "63/63 [==============================] - 13s 199ms/step - loss: 0.0997 - accuracy: 0.9715 - val_loss: 1.3252 - val_accuracy: 0.7760\n",
            "Epoch 86/100\n",
            "63/63 [==============================] - 13s 200ms/step - loss: 0.0947 - accuracy: 0.9675 - val_loss: 1.0793 - val_accuracy: 0.7980\n",
            "Epoch 87/100\n",
            "63/63 [==============================] - 13s 200ms/step - loss: 0.0835 - accuracy: 0.9720 - val_loss: 1.1795 - val_accuracy: 0.7890\n",
            "Epoch 88/100\n",
            "63/63 [==============================] - 13s 203ms/step - loss: 0.1038 - accuracy: 0.9720 - val_loss: 1.0748 - val_accuracy: 0.8030\n",
            "Epoch 89/100\n",
            "63/63 [==============================] - 13s 200ms/step - loss: 0.0782 - accuracy: 0.9725 - val_loss: 1.1267 - val_accuracy: 0.8220\n",
            "Epoch 90/100\n",
            "63/63 [==============================] - 13s 199ms/step - loss: 0.0832 - accuracy: 0.9680 - val_loss: 1.3205 - val_accuracy: 0.8340\n",
            "Epoch 91/100\n",
            "63/63 [==============================] - 13s 200ms/step - loss: 0.1106 - accuracy: 0.9695 - val_loss: 1.1187 - val_accuracy: 0.8140\n",
            "Epoch 92/100\n",
            "63/63 [==============================] - 13s 199ms/step - loss: 0.0923 - accuracy: 0.9740 - val_loss: 1.3150 - val_accuracy: 0.8030\n",
            "Epoch 93/100\n",
            "63/63 [==============================] - 14s 207ms/step - loss: 0.0841 - accuracy: 0.9730 - val_loss: 1.3577 - val_accuracy: 0.8040\n",
            "Epoch 94/100\n",
            "63/63 [==============================] - 13s 201ms/step - loss: 0.1114 - accuracy: 0.9670 - val_loss: 0.9918 - val_accuracy: 0.8180\n",
            "Epoch 95/100\n",
            "63/63 [==============================] - 14s 218ms/step - loss: 0.1014 - accuracy: 0.9710 - val_loss: 1.2790 - val_accuracy: 0.7970\n",
            "Epoch 96/100\n",
            "63/63 [==============================] - 13s 203ms/step - loss: 0.0916 - accuracy: 0.9690 - val_loss: 1.3343 - val_accuracy: 0.8020\n",
            "Epoch 97/100\n",
            "63/63 [==============================] - 13s 200ms/step - loss: 0.0952 - accuracy: 0.9740 - val_loss: 1.2039 - val_accuracy: 0.8180\n",
            "Epoch 98/100\n",
            "63/63 [==============================] - 13s 202ms/step - loss: 0.0949 - accuracy: 0.9750 - val_loss: 1.3264 - val_accuracy: 0.8130\n",
            "Epoch 99/100\n",
            "63/63 [==============================] - 13s 203ms/step - loss: 0.0764 - accuracy: 0.9830 - val_loss: 1.0668 - val_accuracy: 0.8150\n",
            "Epoch 100/100\n",
            "63/63 [==============================] - 13s 202ms/step - loss: 0.1050 - accuracy: 0.9715 - val_loss: 1.6346 - val_accuracy: 0.7760\n"
          ]
        }
      ],
      "source": [
        "history = model_aug.fit(train_dataset,epochs=100,validation_data=validation_dataset,callbacks=callbacks)"
      ]
    },
    {
      "cell_type": "code",
      "execution_count": null,
      "metadata": {
        "id": "j7mlJ_LxI922",
        "colab": {
          "base_uri": "https://localhost:8080/"
        },
        "outputId": "284c166d-7e51-470c-a12c-1952adfacfe2"
      },
      "outputs": [
        {
          "output_type": "stream",
          "name": "stdout",
          "text": [
            "dict_keys(['loss', 'accuracy', 'val_loss', 'val_accuracy'])\n"
          ]
        }
      ],
      "source": [
        "print(history.history.keys())"
      ]
    },
    {
      "cell_type": "code",
      "execution_count": null,
      "metadata": {
        "id": "Vt2zVXOaI9uu"
      },
      "outputs": [],
      "source": [
        "import matplotlib.pyplot as plt"
      ]
    },
    {
      "cell_type": "code",
      "execution_count": null,
      "metadata": {
        "id": "a-puAGhVI9ke",
        "colab": {
          "base_uri": "https://localhost:8080/",
          "height": 545
        },
        "outputId": "69475f75-adb6-4353-efa4-944f601f4dab"
      },
      "outputs": [
        {
          "output_type": "display_data",
          "data": {
            "text/plain": [
              "<Figure size 432x288 with 1 Axes>"
            ],
            "image/png": "[encoded data removed]"
          },
          "metadata": {
            "needs_background": "light"
          }
        },
        {
          "output_type": "display_data",
          "data": {
            "text/plain": [
              "<Figure size 432x288 with 1 Axes>"
            ],
            "image/png": "[encoded data removed]"
          },
          "metadata": {
            "needs_background": "light"
          }
        }
      ],
      "source": [
        "accuracy,val_accuracy,loss,val_loss = history.history[\"accuracy\"],history.history[\"val_accuracy\"],history.history[\"loss\"],history.history[\"val_loss\"]\n",
        "epochs = range(1,len(accuracy)+1)\n",
        "plt.plot(epochs, accuracy, \"bo\", label=\"Training accuracy\")\n",
        "plt.plot(epochs, val_accuracy, \"b\", label=\"Validation accuracy\")\n",
        "plt.title(\"Training and validation accuracy\")\n",
        "plt.legend()\n",
        "plt.figure()\n",
        "plt.plot(epochs, loss, \"bo\", label=\"Training loss\")\n",
        "plt.plot(epochs, val_loss, \"b\", label=\"Validation loss\")\n",
        "plt.title(\"Training and validation loss\")\n",
        "plt.legend()\n",
        "plt.show()"
      ]
    },
    {
      "cell_type": "code",
      "source": [
        "test_model = keras.models.load_model(\n",
        "    \"augment_model.keras\")\n",
        "test_loss, test_acc = test_model.evaluate(test_size)\n",
        "print(f\"Test accuracy: {test_acc:.3f}\")"
      ],
      "metadata": {
        "colab": {
          "base_uri": "https://localhost:8080/"
        },
        "id": "OAi857wpAKa9",
        "outputId": "4233d8d8-913a-4582-8f21-3795f35a370b"
      },
      "execution_count": null,
      "outputs": [
        {
          "output_type": "stream",
          "name": "stderr",
          "text": [
            "WARNING:tensorflow:Using a while_loop for converting RngReadAndSkip cause there is no registered converter for this op.\n",
            "WARNING:tensorflow:Using a while_loop for converting Bitcast cause there is no registered converter for this op.\n",
            "WARNING:tensorflow:Using a while_loop for converting Bitcast cause there is no registered converter for this op.\n",
            "WARNING:tensorflow:Using a while_loop for converting StatelessRandomUniformV2 cause there is no registered converter for this op.\n",
            "WARNING:tensorflow:Using a while_loop for converting ImageProjectiveTransformV3 cause there is no registered converter for this op.\n",
            "WARNING:tensorflow:Using a while_loop for converting RngReadAndSkip cause there is no registered converter for this op.\n",
            "WARNING:tensorflow:Using a while_loop for converting Bitcast cause there is no registered converter for this op.\n",
            "WARNING:tensorflow:Using a while_loop for converting Bitcast cause there is no registered converter for this op.\n",
            "WARNING:tensorflow:Using a while_loop for converting StatelessRandomUniformV2 cause there is no registered converter for this op.\n",
            "WARNING:tensorflow:Using a while_loop for converting ImageProjectiveTransformV3 cause there is no registered converter for this op.\n",
            "WARNING:tensorflow:Using a while_loop for converting RngReadAndSkip cause there is no registered converter for this op.\n",
            "WARNING:tensorflow:Using a while_loop for converting Bitcast cause there is no registered converter for this op.\n",
            "WARNING:tensorflow:Using a while_loop for converting Bitcast cause there is no registered converter for this op.\n",
            "WARNING:tensorflow:Using a while_loop for converting StatelessRandomUniformV2 cause there is no registered converter for this op.\n",
            "WARNING:tensorflow:Using a while_loop for converting ImageProjectiveTransformV3 cause there is no registered converter for this op.\n",
            "WARNING:tensorflow:Using a while_loop for converting RngReadAndSkip cause there is no registered converter for this op.\n",
            "WARNING:tensorflow:Using a while_loop for converting Bitcast cause there is no registered converter for this op.\n",
            "WARNING:tensorflow:Using a while_loop for converting Bitcast cause there is no registered converter for this op.\n",
            "WARNING:tensorflow:Using a while_loop for converting StatelessRandomUniformV2 cause there is no registered converter for this op.\n",
            "WARNING:tensorflow:Using a while_loop for converting ImageProjectiveTransformV3 cause there is no registered converter for this op.\n"
          ]
        },
        {
          "output_type": "stream",
          "name": "stdout",
          "text": [
            "63/63 [==============================] - 4s 50ms/step - loss: 0.5484 - accuracy: 0.7660\n",
            "Test accuracy: 0.766\n"
          ]
        }
      ]
    },
    {
      "cell_type": "markdown",
      "source": [
        "Now using pretrained model to increase accuracy - VGG16\n"
      ],
      "metadata": {
        "id": "UEUxI5AdQS72"
      }
    },
    {
      "cell_type": "code",
      "source": [
        "conv_base = keras.applications.vgg16.VGG16(weights=\"imagenet\",include_top=False,input_shape=(180,180,3))"
      ],
      "metadata": {
        "id": "Lk7e2NzQA1bX",
        "colab": {
          "base_uri": "https://localhost:8080/"
        },
        "outputId": "cf124842-f6ce-4819-b078-9db6ee4b5da0"
      },
      "execution_count": null,
      "outputs": [
        {
          "output_type": "stream",
          "name": "stdout",
          "text": [
            "Downloading data from https://storage.googleapis.com/tensorflow/keras-applications/vgg16/vgg16_weights_tf_dim_ordering_tf_kernels_notop.h5\n",
            "58889256/58889256 [==============================] - 2s 0us/step\n"
          ]
        }
      ]
    },
    {
      "cell_type": "code",
      "source": [
        "conv_base.summary()"
      ],
      "metadata": {
        "colab": {
          "base_uri": "https://localhost:8080/"
        },
        "id": "Fn9hflt2Q0O-",
        "outputId": "8dc9620f-3ffc-4f7e-d577-de04b6b4073d"
      },
      "execution_count": null,
      "outputs": [
        {
          "output_type": "stream",
          "name": "stdout",
          "text": [
            "Model: \"vgg16\"\n",
            "_________________________________________________________________\n",
            " Layer (type)                Output Shape              Param #   \n",
            "=================================================================\n",
            " input_1 (InputLayer)        [(None, 180, 180, 3)]     0         \n",
            "                                                                 \n",
            " block1_conv1 (Conv2D)       (None, 180, 180, 64)      1792      \n",
            "                                                                 \n",
            " block1_conv2 (Conv2D)       (None, 180, 180, 64)      36928     \n",
            "                                                                 \n",
            " block1_pool (MaxPooling2D)  (None, 90, 90, 64)        0         \n",
            "                                                                 \n",
            " block2_conv1 (Conv2D)       (None, 90, 90, 128)       73856     \n",
            "                                                                 \n",
            " block2_conv2 (Conv2D)       (None, 90, 90, 128)       147584    \n",
            "                                                                 \n",
            " block2_pool (MaxPooling2D)  (None, 45, 45, 128)       0         \n",
            "                                                                 \n",
            " block3_conv1 (Conv2D)       (None, 45, 45, 256)       295168    \n",
            "                                                                 \n",
            " block3_conv2 (Conv2D)       (None, 45, 45, 256)       590080    \n",
            "                                                                 \n",
            " block3_conv3 (Conv2D)       (None, 45, 45, 256)       590080    \n",
            "                                                                 \n",
            " block3_pool (MaxPooling2D)  (None, 22, 22, 256)       0         \n",
            "                                                                 \n",
            " block4_conv1 (Conv2D)       (None, 22, 22, 512)       1180160   \n",
            "                                                                 \n",
            " block4_conv2 (Conv2D)       (None, 22, 22, 512)       2359808   \n",
            "                                                                 \n",
            " block4_conv3 (Conv2D)       (None, 22, 22, 512)       2359808   \n",
            "                                                                 \n",
            " block4_pool (MaxPooling2D)  (None, 11, 11, 512)       0         \n",
            "                                                                 \n",
            " block5_conv1 (Conv2D)       (None, 11, 11, 512)       2359808   \n",
            "                                                                 \n",
            " block5_conv2 (Conv2D)       (None, 11, 11, 512)       2359808   \n",
            "                                                                 \n",
            " block5_conv3 (Conv2D)       (None, 11, 11, 512)       2359808   \n",
            "                                                                 \n",
            " block5_pool (MaxPooling2D)  (None, 5, 5, 512)         0         \n",
            "                                                                 \n",
            "=================================================================\n",
            "Total params: 14,714,688\n",
            "Trainable params: 14,714,688\n",
            "Non-trainable params: 0\n",
            "_________________________________________________________________\n"
          ]
        }
      ]
    },
    {
      "cell_type": "code",
      "source": [
        "import numpy as np"
      ],
      "metadata": {
        "id": "YWCfiuZ-RL0r"
      },
      "execution_count": null,
      "outputs": []
    },
    {
      "cell_type": "markdown",
      "source": [
        "first Method to clasify images( Cat vs Dog)"
      ],
      "metadata": {
        "id": "gvmiMSdKZx7T"
      }
    },
    {
      "cell_type": "code",
      "source": [
        "def get_features_and_labels(dataset):\n",
        "    all_features = []\n",
        "    all_labels = []\n",
        "    for images, labels in dataset:\n",
        "        preprocessed_images = keras.applications.vgg16.preprocess_input(images)\n",
        "        features = conv_base.predict(preprocessed_images)\n",
        "        all_features.append(features)\n",
        "        all_labels.append(labels)\n",
        "    return np.concatenate(all_features), np.concatenate(all_labels)"
      ],
      "metadata": {
        "id": "wNXuSzK-3vpf"
      },
      "execution_count": null,
      "outputs": []
    },
    {
      "cell_type": "code",
      "source": [
        "train_features, train_labels =  get_features_and_labels(train_dataset)\n",
        "val_features, val_labels =  get_features_and_labels(validation_dataset)\n",
        "test_features, test_labels =  get_features_and_labels(test_size) "
      ],
      "metadata": {
        "id": "tUDBNYJt4gzH"
      },
      "execution_count": null,
      "outputs": []
    },
    {
      "cell_type": "code",
      "source": [
        "inputs = keras.Input(shape=(5, 5, 512))\n",
        "x = layers.Flatten()(inputs)        \n",
        "x = layers.Dense(256)(x)\n",
        "x = layers.Dropout(0.5)(x)\n",
        "outputs = layers.Dense(1, activation=\"sigmoid\")(x)\n",
        "model = keras.Model(inputs, outputs)\n",
        "model.compile(loss=\"binary_crossentropy\",\n",
        "              optimizer=\"rmsprop\",\n",
        "              metrics=[\"accuracy\"])"
      ],
      "metadata": {
        "id": "KOjrihJ_4rCu"
      },
      "execution_count": null,
      "outputs": []
    },
    {
      "cell_type": "code",
      "source": [
        "callbacks = [\n",
        "    keras.callbacks.ModelCheckpoint(\n",
        "        filepath=\"feature_extraction.keras\",\n",
        "        save_best_only=True,\n",
        "        monitor=\"val_loss\")]"
      ],
      "metadata": {
        "id": "Rp1jdnwM7DYK"
      },
      "execution_count": null,
      "outputs": []
    },
    {
      "cell_type": "code",
      "source": [
        "history = model.fit(\n",
        "    train_features, train_labels,\n",
        "    epochs=20,\n",
        "    validation_data=(val_features, val_labels),\n",
        "    callbacks=callbacks)"
      ],
      "metadata": {
        "colab": {
          "base_uri": "https://localhost:8080/"
        },
        "id": "mvTn5Xff8D6t",
        "outputId": "7d7f0913-0f97-4d67-be9e-84cf2a0a4075"
      },
      "execution_count": null,
      "outputs": [
        {
          "output_type": "stream",
          "name": "stdout",
          "text": [
            "Epoch 1/20\n",
            "63/63 [==============================] - 3s 11ms/step - loss: 20.3978 - accuracy: 0.9190 - val_loss: 6.2690 - val_accuracy: 0.9480\n",
            "Epoch 2/20\n",
            "63/63 [==============================] - 0s 8ms/step - loss: 2.4782 - accuracy: 0.9765 - val_loss: 4.3505 - val_accuracy: 0.9780\n",
            "Epoch 3/20\n",
            "63/63 [==============================] - 0s 7ms/step - loss: 1.6212 - accuracy: 0.9880 - val_loss: 5.1702 - val_accuracy: 0.9700\n",
            "Epoch 4/20\n",
            "63/63 [==============================] - 1s 9ms/step - loss: 1.0563 - accuracy: 0.9890 - val_loss: 4.9310 - val_accuracy: 0.9760\n",
            "Epoch 5/20\n",
            "63/63 [==============================] - 1s 8ms/step - loss: 0.8361 - accuracy: 0.9920 - val_loss: 6.0496 - val_accuracy: 0.9740\n",
            "Epoch 6/20\n",
            "63/63 [==============================] - 1s 8ms/step - loss: 0.5249 - accuracy: 0.9935 - val_loss: 4.4637 - val_accuracy: 0.9660\n",
            "Epoch 7/20\n",
            "63/63 [==============================] - 1s 9ms/step - loss: 0.4439 - accuracy: 0.9950 - val_loss: 4.1633 - val_accuracy: 0.9780\n",
            "Epoch 8/20\n",
            "63/63 [==============================] - 0s 8ms/step - loss: 0.5956 - accuracy: 0.9945 - val_loss: 5.4188 - val_accuracy: 0.9740\n",
            "Epoch 9/20\n",
            "63/63 [==============================] - 0s 7ms/step - loss: 0.2525 - accuracy: 0.9970 - val_loss: 4.5272 - val_accuracy: 0.9770\n",
            "Epoch 10/20\n",
            "63/63 [==============================] - 0s 7ms/step - loss: 0.2434 - accuracy: 0.9960 - val_loss: 4.3112 - val_accuracy: 0.9810\n",
            "Epoch 11/20\n",
            "63/63 [==============================] - 0s 6ms/step - loss: 0.1399 - accuracy: 0.9975 - val_loss: 5.2055 - val_accuracy: 0.9820\n",
            "Epoch 12/20\n",
            "63/63 [==============================] - 0s 6ms/step - loss: 0.3155 - accuracy: 0.9970 - val_loss: 4.8338 - val_accuracy: 0.9750\n",
            "Epoch 13/20\n",
            "63/63 [==============================] - 0s 6ms/step - loss: 0.2924 - accuracy: 0.9965 - val_loss: 6.5383 - val_accuracy: 0.9770\n",
            "Epoch 14/20\n",
            "63/63 [==============================] - 0s 6ms/step - loss: 0.0910 - accuracy: 0.9975 - val_loss: 4.2382 - val_accuracy: 0.9780\n",
            "Epoch 15/20\n",
            "63/63 [==============================] - 0s 7ms/step - loss: 0.1801 - accuracy: 0.9980 - val_loss: 8.0991 - val_accuracy: 0.9750\n",
            "Epoch 16/20\n",
            "63/63 [==============================] - 0s 6ms/step - loss: 0.0456 - accuracy: 0.9995 - val_loss: 5.2427 - val_accuracy: 0.9790\n",
            "Epoch 17/20\n",
            "63/63 [==============================] - 0s 7ms/step - loss: 0.1068 - accuracy: 0.9990 - val_loss: 5.0748 - val_accuracy: 0.9770\n",
            "Epoch 18/20\n",
            "63/63 [==============================] - 0s 7ms/step - loss: 0.0168 - accuracy: 0.9995 - val_loss: 6.5086 - val_accuracy: 0.9770\n",
            "Epoch 19/20\n",
            "63/63 [==============================] - 0s 6ms/step - loss: 0.2997 - accuracy: 0.9975 - val_loss: 5.5456 - val_accuracy: 0.9790\n",
            "Epoch 20/20\n",
            "63/63 [==============================] - 0s 7ms/step - loss: 1.5199e-18 - accuracy: 1.0000 - val_loss: 5.5456 - val_accuracy: 0.9790\n"
          ]
        }
      ]
    },
    {
      "cell_type": "code",
      "source": [
        "import matplotlib.pyplot as plt\n",
        "acc = history.history[\"accuracy\"]\n",
        "val_acc = history.history[\"val_accuracy\"]\n",
        "loss = history.history[\"loss\"]\n",
        "val_loss = history.history[\"val_loss\"]\n",
        "epochs = range(1, len(acc) + 1)\n",
        "plt.plot(epochs, acc, \"bo\", label=\"Training accuracy\")\n",
        "plt.plot(epochs, val_acc, \"b\", label=\"Validation accuracy\")\n",
        "plt.title(\"Training and validation accuracy\")\n",
        "plt.legend()\n",
        "plt.figure()\n",
        "plt.plot(epochs, loss, \"bo\", label=\"Training loss\")\n",
        "plt.plot(epochs, val_loss, \"b\", label=\"Validation loss\")\n",
        "plt.title(\"Training and validation loss\")\n",
        "plt.legend()\n",
        "plt.show()"
      ],
      "metadata": {
        "colab": {
          "base_uri": "https://localhost:8080/",
          "height": 545
        },
        "id": "9hTGauNA8OYo",
        "outputId": "7efcf985-4ad9-43d6-c923-bdd84cfcb579"
      },
      "execution_count": null,
      "outputs": [
        {
          "output_type": "display_data",
          "data": {
            "text/plain": [
              "<Figure size 432x288 with 1 Axes>"
            ],
            "image/png": "[encoded data removed]"
          },
          "metadata": {
            "needs_background": "light"
          }
        },
        {
          "output_type": "display_data",
          "data": {
            "text/plain": [
              "<Figure size 432x288 with 1 Axes>"
            ],
            "image/png": "[encoded data removed]"
          },
          "metadata": {
            "needs_background": "light"
          }
        }
      ]
    },
    {
      "cell_type": "markdown",
      "source": [
        "2nd Method to use pretrained model "
      ],
      "metadata": {
        "id": "ciuc_Iq0hSkx"
      }
    },
    {
      "cell_type": "code",
      "source": [
        "conv_base = keras.applications.vgg16.VGG16(weights=\"imagenet\",include_top=False,input_shape=(180,180,3))"
      ],
      "metadata": {
        "id": "EpX0mct3i-XO"
      },
      "execution_count": 32,
      "outputs": []
    },
    {
      "cell_type": "code",
      "source": [
        "conv_base.trainable = False"
      ],
      "metadata": {
        "id": "os_ePOqQndE3"
      },
      "execution_count": 33,
      "outputs": []
    },
    {
      "cell_type": "code",
      "source": [
        "data_augmentation = keras.Sequential([\n",
        "                                        layers.RandomFlip(\"horizontal\"),\n",
        "                                        layers.RandomRotation(0.1),\n",
        "                                        layers.RandomZoom(0.2)\n",
        "]) "
      ],
      "metadata": {
        "id": "uw5iM0Zw86JQ"
      },
      "execution_count": 34,
      "outputs": []
    },
    {
      "cell_type": "code",
      "source": [
        "inputs = keras.Input(shape=(180,180,3))\n",
        "x  = data_augmentation(inputs)\n",
        "x  = keras.applications.vgg16.preprocess_input(x)\n",
        "x  = conv_base(x)\n",
        "x  = layers.Flatten()(x)\n",
        "x  = layers.Dense(256,activation='relu')(x)\n",
        "x  = layers.Dropout(0.5)(x)\n",
        "outputs  = layers.Dense(1,activation=\"sigmoid\")(x)\n",
        "model = keras.Model(inputs=inputs,outputs=outputs)"
      ],
      "metadata": {
        "colab": {
          "base_uri": "https://localhost:8080/"
        },
        "id": "6vqxdZQqhx3P",
        "outputId": "84db8637-3794-4fd6-d120-284b678e4d80"
      },
      "execution_count": 35,
      "outputs": [
        {
          "output_type": "stream",
          "name": "stderr",
          "text": [
            "WARNING:tensorflow:Using a while_loop for converting RngReadAndSkip cause there is no registered converter for this op.\n",
            "WARNING:tensorflow:Using a while_loop for converting Bitcast cause there is no registered converter for this op.\n",
            "WARNING:tensorflow:Using a while_loop for converting Bitcast cause there is no registered converter for this op.\n",
            "WARNING:tensorflow:Using a while_loop for converting StatelessRandomUniformV2 cause there is no registered converter for this op.\n",
            "WARNING:tensorflow:Using a while_loop for converting ImageProjectiveTransformV3 cause there is no registered converter for this op.\n",
            "WARNING:tensorflow:Using a while_loop for converting RngReadAndSkip cause there is no registered converter for this op.\n",
            "WARNING:tensorflow:Using a while_loop for converting Bitcast cause there is no registered converter for this op.\n",
            "WARNING:tensorflow:Using a while_loop for converting Bitcast cause there is no registered converter for this op.\n",
            "WARNING:tensorflow:Using a while_loop for converting StatelessRandomUniformV2 cause there is no registered converter for this op.\n",
            "WARNING:tensorflow:Using a while_loop for converting ImageProjectiveTransformV3 cause there is no registered converter for this op.\n",
            "WARNING:tensorflow:Using a while_loop for converting RngReadAndSkip cause there is no registered converter for this op.\n",
            "WARNING:tensorflow:Using a while_loop for converting Bitcast cause there is no registered converter for this op.\n",
            "WARNING:tensorflow:Using a while_loop for converting Bitcast cause there is no registered converter for this op.\n",
            "WARNING:tensorflow:Using a while_loop for converting StatelessRandomUniformV2 cause there is no registered converter for this op.\n",
            "WARNING:tensorflow:Using a while_loop for converting ImageProjectiveTransformV3 cause there is no registered converter for this op.\n",
            "WARNING:tensorflow:Using a while_loop for converting RngReadAndSkip cause there is no registered converter for this op.\n",
            "WARNING:tensorflow:Using a while_loop for converting Bitcast cause there is no registered converter for this op.\n",
            "WARNING:tensorflow:Using a while_loop for converting Bitcast cause there is no registered converter for this op.\n",
            "WARNING:tensorflow:Using a while_loop for converting StatelessRandomUniformV2 cause there is no registered converter for this op.\n",
            "WARNING:tensorflow:Using a while_loop for converting ImageProjectiveTransformV3 cause there is no registered converter for this op.\n"
          ]
        }
      ]
    },
    {
      "cell_type": "code",
      "source": [
        "model.summary()"
      ],
      "metadata": {
        "colab": {
          "base_uri": "https://localhost:8080/"
        },
        "id": "z7QvjJBOlisp",
        "outputId": "95693766-2d63-4bf9-9a24-a2c635663302"
      },
      "execution_count": 36,
      "outputs": [
        {
          "output_type": "stream",
          "name": "stdout",
          "text": [
            "Model: \"model_2\"\n",
            "_________________________________________________________________\n",
            " Layer (type)                Output Shape              Param #   \n",
            "=================================================================\n",
            " input_11 (InputLayer)       [(None, 180, 180, 3)]     0         \n",
            "                                                                 \n",
            " sequential_2 (Sequential)   (None, 180, 180, 3)       0         \n",
            "                                                                 \n",
            " tf.__operators__.getitem_3   (None, 180, 180, 3)      0         \n",
            " (SlicingOpLambda)                                               \n",
            "                                                                 \n",
            " tf.nn.bias_add_3 (TFOpLambd  (None, 180, 180, 3)      0         \n",
            " a)                                                              \n",
            "                                                                 \n",
            " vgg16 (Functional)          (None, 5, 5, 512)         14714688  \n",
            "                                                                 \n",
            " flatten_3 (Flatten)         (None, 12800)             0         \n",
            "                                                                 \n",
            " dense_6 (Dense)             (None, 256)               3277056   \n",
            "                                                                 \n",
            " dropout_3 (Dropout)         (None, 256)               0         \n",
            "                                                                 \n",
            " dense_7 (Dense)             (None, 1)                 257       \n",
            "                                                                 \n",
            "=================================================================\n",
            "Total params: 17,992,001\n",
            "Trainable params: 3,277,313\n",
            "Non-trainable params: 14,714,688\n",
            "_________________________________________________________________\n"
          ]
        }
      ]
    },
    {
      "cell_type": "code",
      "source": [
        "model.compile(optimizer=\"rmsprop\",loss=\"binary_crossentropy\",metrics=[\"accuracy\"])"
      ],
      "metadata": {
        "id": "zeoezOu8q8ZE"
      },
      "execution_count": 44,
      "outputs": []
    },
    {
      "cell_type": "code",
      "source": [
        "callbacks = [keras.callbacks.ModelCheckpoint(save_best_only=True,filepath = \"keras_vgg16_aug.keras\",monitor=\"val_loss\")]"
      ],
      "metadata": {
        "id": "lW2BkwnxnQs2"
      },
      "execution_count": 38,
      "outputs": []
    },
    {
      "cell_type": "code",
      "source": [
        "history = model.fit(train_dataset,epochs=50,validation_data= validation_dataset,callbacks=callbacks)"
      ],
      "metadata": {
        "colab": {
          "base_uri": "https://localhost:8080/"
        },
        "id": "bAgwAcM8ogJH",
        "outputId": "ffd56e6e-23d7-46d9-9ada-fca7212055a3"
      },
      "execution_count": 45,
      "outputs": [
        {
          "output_type": "stream",
          "name": "stdout",
          "text": [
            "Epoch 1/50\n"
          ]
        },
        {
          "output_type": "stream",
          "name": "stderr",
          "text": [
            "WARNING:tensorflow:Using a while_loop for converting RngReadAndSkip cause there is no registered converter for this op.\n",
            "WARNING:tensorflow:Using a while_loop for converting Bitcast cause there is no registered converter for this op.\n",
            "WARNING:tensorflow:Using a while_loop for converting Bitcast cause there is no registered converter for this op.\n",
            "WARNING:tensorflow:Using a while_loop for converting StatelessRandomUniformV2 cause there is no registered converter for this op.\n",
            "WARNING:tensorflow:Using a while_loop for converting ImageProjectiveTransformV3 cause there is no registered converter for this op.\n",
            "WARNING:tensorflow:Using a while_loop for converting RngReadAndSkip cause there is no registered converter for this op.\n",
            "WARNING:tensorflow:Using a while_loop for converting Bitcast cause there is no registered converter for this op.\n",
            "WARNING:tensorflow:Using a while_loop for converting Bitcast cause there is no registered converter for this op.\n",
            "WARNING:tensorflow:Using a while_loop for converting StatelessRandomUniformV2 cause there is no registered converter for this op.\n",
            "WARNING:tensorflow:Using a while_loop for converting ImageProjectiveTransformV3 cause there is no registered converter for this op.\n",
            "WARNING:tensorflow:Using a while_loop for converting RngReadAndSkip cause there is no registered converter for this op.\n",
            "WARNING:tensorflow:Using a while_loop for converting Bitcast cause there is no registered converter for this op.\n",
            "WARNING:tensorflow:Using a while_loop for converting Bitcast cause there is no registered converter for this op.\n",
            "WARNING:tensorflow:Using a while_loop for converting StatelessRandomUniformV2 cause there is no registered converter for this op.\n",
            "WARNING:tensorflow:Using a while_loop for converting ImageProjectiveTransformV3 cause there is no registered converter for this op.\n",
            "WARNING:tensorflow:Using a while_loop for converting RngReadAndSkip cause there is no registered converter for this op.\n",
            "WARNING:tensorflow:Using a while_loop for converting Bitcast cause there is no registered converter for this op.\n",
            "WARNING:tensorflow:Using a while_loop for converting Bitcast cause there is no registered converter for this op.\n",
            "WARNING:tensorflow:Using a while_loop for converting StatelessRandomUniformV2 cause there is no registered converter for this op.\n",
            "WARNING:tensorflow:Using a while_loop for converting ImageProjectiveTransformV3 cause there is no registered converter for this op.\n"
          ]
        },
        {
          "output_type": "stream",
          "name": "stdout",
          "text": [
            "63/63 [==============================] - 36s 332ms/step - loss: 7.7353 - accuracy: 0.8835 - val_loss: 0.8204 - val_accuracy: 0.9710\n",
            "Epoch 2/50\n",
            "63/63 [==============================] - 18s 285ms/step - loss: 1.0802 - accuracy: 0.9475 - val_loss: 0.7355 - val_accuracy: 0.9680\n",
            "Epoch 3/50\n",
            "63/63 [==============================] - 19s 293ms/step - loss: 0.8021 - accuracy: 0.9560 - val_loss: 0.7193 - val_accuracy: 0.9630\n",
            "Epoch 4/50\n",
            "63/63 [==============================] - 18s 280ms/step - loss: 0.4949 - accuracy: 0.9630 - val_loss: 0.5699 - val_accuracy: 0.9730\n",
            "Epoch 5/50\n",
            "63/63 [==============================] - 18s 277ms/step - loss: 0.3984 - accuracy: 0.9665 - val_loss: 0.5900 - val_accuracy: 0.9660\n",
            "Epoch 6/50\n",
            "63/63 [==============================] - 18s 279ms/step - loss: 0.2913 - accuracy: 0.9695 - val_loss: 0.4935 - val_accuracy: 0.9700\n",
            "Epoch 7/50\n",
            "63/63 [==============================] - 20s 313ms/step - loss: 0.2633 - accuracy: 0.9720 - val_loss: 0.2434 - val_accuracy: 0.9750\n",
            "Epoch 8/50\n",
            "63/63 [==============================] - 19s 290ms/step - loss: 0.1828 - accuracy: 0.9740 - val_loss: 0.3937 - val_accuracy: 0.9710\n",
            "Epoch 9/50\n",
            "63/63 [==============================] - 18s 274ms/step - loss: 0.1996 - accuracy: 0.9775 - val_loss: 0.2956 - val_accuracy: 0.9800\n",
            "Epoch 10/50\n",
            "63/63 [==============================] - 18s 276ms/step - loss: 0.1791 - accuracy: 0.9770 - val_loss: 0.5081 - val_accuracy: 0.9780\n",
            "Epoch 11/50\n",
            "63/63 [==============================] - 20s 307ms/step - loss: 0.1786 - accuracy: 0.9825 - val_loss: 0.4753 - val_accuracy: 0.9700\n",
            "Epoch 12/50\n",
            "63/63 [==============================] - 18s 277ms/step - loss: 0.1817 - accuracy: 0.9820 - val_loss: 0.5060 - val_accuracy: 0.9750\n",
            "Epoch 13/50\n",
            "63/63 [==============================] - 18s 275ms/step - loss: 0.1199 - accuracy: 0.9885 - val_loss: 0.4107 - val_accuracy: 0.9840\n",
            "Epoch 14/50\n",
            "63/63 [==============================] - 18s 274ms/step - loss: 0.1968 - accuracy: 0.9850 - val_loss: 0.5336 - val_accuracy: 0.9790\n",
            "Epoch 15/50\n",
            "63/63 [==============================] - 17s 274ms/step - loss: 0.1223 - accuracy: 0.9815 - val_loss: 0.5102 - val_accuracy: 0.9790\n",
            "Epoch 16/50\n",
            "63/63 [==============================] - 18s 283ms/step - loss: 0.1173 - accuracy: 0.9865 - val_loss: 0.4080 - val_accuracy: 0.9820\n",
            "Epoch 17/50\n",
            "63/63 [==============================] - 18s 277ms/step - loss: 0.1755 - accuracy: 0.9845 - val_loss: 0.4817 - val_accuracy: 0.9700\n",
            "Epoch 18/50\n",
            "63/63 [==============================] - 18s 280ms/step - loss: 0.1433 - accuracy: 0.9880 - val_loss: 0.3840 - val_accuracy: 0.9800\n",
            "Epoch 19/50\n",
            "63/63 [==============================] - 17s 274ms/step - loss: 0.1435 - accuracy: 0.9875 - val_loss: 0.3605 - val_accuracy: 0.9820\n",
            "Epoch 20/50\n",
            "63/63 [==============================] - 18s 276ms/step - loss: 0.1455 - accuracy: 0.9865 - val_loss: 0.2556 - val_accuracy: 0.9850\n",
            "Epoch 21/50\n",
            "63/63 [==============================] - 20s 310ms/step - loss: 0.1404 - accuracy: 0.9910 - val_loss: 0.3013 - val_accuracy: 0.9830\n",
            "Epoch 22/50\n",
            "63/63 [==============================] - 20s 308ms/step - loss: 0.0705 - accuracy: 0.9930 - val_loss: 0.3375 - val_accuracy: 0.9820\n",
            "Epoch 23/50\n",
            "63/63 [==============================] - 18s 285ms/step - loss: 0.0936 - accuracy: 0.9905 - val_loss: 0.4417 - val_accuracy: 0.9760\n",
            "Epoch 24/50\n",
            "63/63 [==============================] - 17s 273ms/step - loss: 0.0778 - accuracy: 0.9910 - val_loss: 0.3098 - val_accuracy: 0.9820\n",
            "Epoch 25/50\n",
            "63/63 [==============================] - 18s 274ms/step - loss: 0.0539 - accuracy: 0.9925 - val_loss: 0.3011 - val_accuracy: 0.9820\n",
            "Epoch 26/50\n",
            "63/63 [==============================] - 17s 273ms/step - loss: 0.0854 - accuracy: 0.9870 - val_loss: 0.3146 - val_accuracy: 0.9830\n",
            "Epoch 27/50\n",
            "63/63 [==============================] - 17s 274ms/step - loss: 0.1207 - accuracy: 0.9900 - val_loss: 0.3919 - val_accuracy: 0.9740\n",
            "Epoch 28/50\n",
            "63/63 [==============================] - 18s 283ms/step - loss: 0.0986 - accuracy: 0.9890 - val_loss: 0.6377 - val_accuracy: 0.9720\n",
            "Epoch 29/50\n",
            "63/63 [==============================] - 17s 273ms/step - loss: 0.0596 - accuracy: 0.9925 - val_loss: 0.3870 - val_accuracy: 0.9820\n",
            "Epoch 30/50\n",
            "63/63 [==============================] - 18s 284ms/step - loss: 0.0373 - accuracy: 0.9930 - val_loss: 0.4204 - val_accuracy: 0.9820\n",
            "Epoch 31/50\n",
            "63/63 [==============================] - 18s 275ms/step - loss: 0.0343 - accuracy: 0.9935 - val_loss: 0.4572 - val_accuracy: 0.9810\n",
            "Epoch 32/50\n",
            "63/63 [==============================] - 20s 308ms/step - loss: 0.0487 - accuracy: 0.9920 - val_loss: 0.3873 - val_accuracy: 0.9810\n",
            "Epoch 33/50\n",
            "63/63 [==============================] - 18s 275ms/step - loss: 0.0516 - accuracy: 0.9940 - val_loss: 0.4083 - val_accuracy: 0.9820\n",
            "Epoch 34/50\n",
            "63/63 [==============================] - 20s 307ms/step - loss: 0.0456 - accuracy: 0.9955 - val_loss: 0.3420 - val_accuracy: 0.9830\n",
            "Epoch 35/50\n",
            "63/63 [==============================] - 18s 278ms/step - loss: 0.0586 - accuracy: 0.9935 - val_loss: 0.3740 - val_accuracy: 0.9810\n",
            "Epoch 36/50\n",
            "63/63 [==============================] - 18s 282ms/step - loss: 0.0265 - accuracy: 0.9970 - val_loss: 0.3868 - val_accuracy: 0.9840\n",
            "Epoch 37/50\n",
            "63/63 [==============================] - 17s 274ms/step - loss: 0.0750 - accuracy: 0.9945 - val_loss: 0.5313 - val_accuracy: 0.9810\n",
            "Epoch 38/50\n",
            "63/63 [==============================] - 18s 276ms/step - loss: 0.0568 - accuracy: 0.9935 - val_loss: 0.3778 - val_accuracy: 0.9820\n",
            "Epoch 39/50\n",
            "63/63 [==============================] - 18s 275ms/step - loss: 0.0453 - accuracy: 0.9965 - val_loss: 0.4861 - val_accuracy: 0.9780\n",
            "Epoch 40/50\n",
            "63/63 [==============================] - 17s 273ms/step - loss: 0.0532 - accuracy: 0.9965 - val_loss: 0.5659 - val_accuracy: 0.9810\n",
            "Epoch 41/50\n",
            "63/63 [==============================] - 18s 283ms/step - loss: 0.0201 - accuracy: 0.9970 - val_loss: 0.3612 - val_accuracy: 0.9830\n",
            "Epoch 42/50\n",
            "63/63 [==============================] - 17s 274ms/step - loss: 0.0197 - accuracy: 0.9965 - val_loss: 0.4048 - val_accuracy: 0.9780\n",
            "Epoch 43/50\n",
            "63/63 [==============================] - 18s 286ms/step - loss: 0.0486 - accuracy: 0.9935 - val_loss: 0.3936 - val_accuracy: 0.9790\n",
            "Epoch 44/50\n",
            "63/63 [==============================] - 17s 274ms/step - loss: 0.0367 - accuracy: 0.9955 - val_loss: 0.3792 - val_accuracy: 0.9810\n",
            "Epoch 45/50\n",
            "63/63 [==============================] - 17s 273ms/step - loss: 0.0445 - accuracy: 0.9955 - val_loss: 0.4130 - val_accuracy: 0.9810\n",
            "Epoch 46/50\n",
            "63/63 [==============================] - 18s 289ms/step - loss: 0.0290 - accuracy: 0.9980 - val_loss: 0.4244 - val_accuracy: 0.9780\n",
            "Epoch 47/50\n",
            "63/63 [==============================] - 18s 275ms/step - loss: 0.0261 - accuracy: 0.9965 - val_loss: 0.5046 - val_accuracy: 0.9810\n",
            "Epoch 48/50\n",
            "63/63 [==============================] - 18s 275ms/step - loss: 0.0293 - accuracy: 0.9955 - val_loss: 0.4958 - val_accuracy: 0.9770\n",
            "Epoch 49/50\n",
            "63/63 [==============================] - 18s 276ms/step - loss: 0.0653 - accuracy: 0.9925 - val_loss: 0.3720 - val_accuracy: 0.9870\n",
            "Epoch 50/50\n",
            "63/63 [==============================] - 18s 288ms/step - loss: 0.0560 - accuracy: 0.9940 - val_loss: 0.3458 - val_accuracy: 0.9850\n"
          ]
        }
      ]
    },
    {
      "cell_type": "code",
      "source": [],
      "metadata": {
        "id": "fin38KiSof-H"
      },
      "execution_count": null,
      "outputs": []
    }
  ],
  "metadata": {
    "accelerator": "GPU",
    "colab": {
      "provenance": [],
      "authorship_tag": "ABX9TyO+eZXcStfjgpG6deV4Hz6G",
      "include_colab_link": true
    },
    "gpuClass": "standard",
    "kernelspec": {
      "display_name": "Python 3",
      "name": "python3"
    },
    "language_info": {
      "name": "python"
    }
  },
  "nbformat": 4,
  "nbformat_minor": 0
}