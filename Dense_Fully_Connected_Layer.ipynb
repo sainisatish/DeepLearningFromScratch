{
  "nbformat": 4,
  "nbformat_minor": 0,
  "metadata": {
    "colab": {
      "provenance": [],
      "authorship_tag": "ABX9TyNzxSjeVhlfAYd5X5+mWnSU",
      "include_colab_link": true
    },
    "kernelspec": {
      "name": "python3",
      "display_name": "Python 3"
    },
    "language_info": {
      "name": "python"
    }
  },
  "cells": [
    {
      "cell_type": "markdown",
      "metadata": {
        "id": "view-in-github",
        "colab_type": "text"
      },
      "source": [
        "<a href=\"https://colab.research.google.com/github/sainisatish/DeepLearningFromScratch/blob/main/Dense_Fully_Connected_Layer.ipynb\" target=\"_parent\"><img src=\"https://colab.research.google.com/assets/colab-badge.svg\" alt=\"Open In Colab\"/></a>"
      ]
    },
    {
      "cell_type": "code",
      "execution_count": 72,
      "metadata": {
        "id": "S0JbyP-2GUSP"
      },
      "outputs": [],
      "source": [
        "from tensorflow import keras\n",
        "import tensorflow as tf"
      ]
    },
    {
      "cell_type": "code",
      "source": [
        "from tensorflow.python.ops.init_ops_v2 import Initializer\n",
        "\n",
        "class blockDense(keras.layers.Layer):\n",
        "    def __init__(self,units,activation=None):\n",
        "        super().__init__()\n",
        "        self.units = units\n",
        "        self.activation = activation\n",
        "\n",
        "    def build(self,input_shape):\n",
        "        input_dim = input_shape[-1]\n",
        "        self.W = self.add_weight(shape=(input_dim,self.units),initializer='random_normal') #shortcut / we can also use variable\n",
        "        self.b = self.add_weight(shape=(self.units),initializer='zeros')\n",
        "\n",
        "    def call(self,inputs):\n",
        "        y = tf.matmul(inputs,self.W)+self.b\n",
        "        if self.activation is not None:\n",
        "            y = self.activation(y)\n",
        "        return y\n",
        "\n",
        "    \n",
        "\n"
      ],
      "metadata": {
        "id": "nNNH8SYMHrIV"
      },
      "execution_count": 77,
      "outputs": []
    },
    {
      "cell_type": "code",
      "source": [
        "simpleDense = blockDense(32,tf.nn.relu)"
      ],
      "metadata": {
        "id": "INZqofM9KRYs"
      },
      "execution_count": 78,
      "outputs": []
    },
    {
      "cell_type": "code",
      "source": [
        "input= tf.ones((2,784))"
      ],
      "metadata": {
        "id": "d3ygZ4c7KTuw"
      },
      "execution_count": 79,
      "outputs": []
    },
    {
      "cell_type": "code",
      "source": [
        "output= simpleDense(input)"
      ],
      "metadata": {
        "id": "KKbp1b3jNr76"
      },
      "execution_count": 80,
      "outputs": []
    },
    {
      "cell_type": "code",
      "source": [
        "output[0]"
      ],
      "metadata": {
        "id": "g72HT1mASOG4",
        "outputId": "5aceba48-6c56-48d4-f91e-cba39dc20dda",
        "colab": {
          "base_uri": "https://localhost:8080/"
        }
      },
      "execution_count": 84,
      "outputs": [
        {
          "output_type": "execute_result",
          "data": {
            "text/plain": [
              "<tf.Tensor: shape=(32,), dtype=float32, numpy=\n",
              "array([1.7241647 , 0.        , 0.44261658, 0.        , 0.9122395 ,\n",
              "       2.5270853 , 0.7358346 , 0.        , 0.        , 0.82254916,\n",
              "       2.3339543 , 0.        , 0.        , 0.        , 0.        ,\n",
              "       0.        , 0.        , 0.        , 0.        , 0.        ,\n",
              "       1.4132133 , 0.        , 2.1661887 , 0.02866715, 0.        ,\n",
              "       0.        , 0.        , 0.        , 0.2448631 , 0.        ,\n",
              "       0.        , 0.        ], dtype=float32)>"
            ]
          },
          "metadata": {},
          "execution_count": 84
        }
      ]
    },
    {
      "cell_type": "code",
      "source": [],
      "metadata": {
        "id": "Q_pM5u55WPrH"
      },
      "execution_count": null,
      "outputs": []
    }
  ]
}