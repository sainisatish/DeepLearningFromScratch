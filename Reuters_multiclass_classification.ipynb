{
  "cells": [
    {
      "cell_type": "markdown",
      "metadata": {
        "id": "view-in-github",
        "colab_type": "text"
      },
      "source": [
        "<a href=\"https://colab.research.google.com/github/sainisatish/DeepLearningFromScratch/blob/main/Reuters_multiclass_classification.ipynb\" target=\"_parent\"><img src=\"https://colab.research.google.com/assets/colab-badge.svg\" alt=\"Open In Colab\"/></a>"
      ]
    },
    {
      "cell_type": "code",
      "execution_count": 5,
      "metadata": {
        "id": "XE_4cfPQkivm"
      },
      "outputs": [],
      "source": [
        "import numpy as np"
      ]
    },
    {
      "cell_type": "code",
      "execution_count": 6,
      "metadata": {
        "id": "cUjrcdbtgHwi"
      },
      "outputs": [],
      "source": [
        "from tensorflow.keras.datasets import reuters"
      ]
    },
    {
      "cell_type": "code",
      "execution_count": 7,
      "metadata": {
        "id": "TGDFYqj_gWBx"
      },
      "outputs": [],
      "source": [
        "(train_data,train_labels),(test_data,test_labels) = reuters.load_data(num_words=10000)"
      ]
    },
    {
      "cell_type": "code",
      "execution_count": 8,
      "metadata": {
        "id": "-QR8-iSggqeG"
      },
      "outputs": [],
      "source": [
        "word_index = reuters.get_word_index()"
      ]
    },
    {
      "cell_type": "code",
      "execution_count": 9,
      "metadata": {
        "id": "eX4eOR6xg0hX"
      },
      "outputs": [],
      "source": [
        "reverse_word_index = dict((value,key) for (key,value) in word_index.items())"
      ]
    },
    {
      "cell_type": "code",
      "execution_count": 10,
      "metadata": {
        "id": "iDCt22IJhZvA"
      },
      "outputs": [],
      "source": [
        "decoded_review = \" \".join([ reverse_word_index.get(i-3,\"?\") for i in train_data[0] ])"
      ]
    },
    {
      "cell_type": "code",
      "execution_count": 11,
      "metadata": {
        "id": "XXmUznLUjkjy"
      },
      "outputs": [],
      "source": [
        "def vectorize_sequences(sequences,dim=10000):\n",
        "    results = np.zeros((len(sequences),dim))\n",
        "    for i, sequence in enumerate(sequences):\n",
        "        for j in sequence:\n",
        "            results[i,j] = 1.\n",
        "\n",
        "    return results\n"
      ]
    },
    {
      "cell_type": "code",
      "execution_count": 12,
      "metadata": {
        "id": "yK341nh_ipew"
      },
      "outputs": [],
      "source": [
        "x_train = vectorize_sequences(train_data)    \n",
        "x_test = vectorize_sequences(test_data)"
      ]
    },
    {
      "cell_type": "code",
      "execution_count": 13,
      "metadata": {
        "id": "hRDV_VRtlfH9"
      },
      "outputs": [],
      "source": [
        "#encoding label to same like input using one hot encoding"
      ]
    },
    {
      "cell_type": "code",
      "execution_count": 14,
      "metadata": {
        "id": "EpuufVqCoU39"
      },
      "outputs": [],
      "source": [
        "def one_hot(sequences,dims=46):\n",
        "    result = np.zeros((len(sequences),dims))\n",
        "    for i,sequence in enumerate(sequences):\n",
        "        result[i,sequence] = 1.\n",
        "    return result "
      ]
    },
    {
      "cell_type": "code",
      "execution_count": 15,
      "metadata": {
        "id": "dD_3fKMqsRex"
      },
      "outputs": [],
      "source": [
        "x_labels = one_hot(train_labels)\n",
        "y_labels = one_hot(test_labels)"
      ]
    },
    {
      "cell_type": "code",
      "execution_count": 16,
      "metadata": {
        "id": "hXPIHGhNtHbZ"
      },
      "outputs": [],
      "source": [
        "from tensorflow.keras import layers, Sequential"
      ]
    },
    {
      "cell_type": "code",
      "execution_count": 22,
      "metadata": {
        "id": "o-PKqLuKYppa"
      },
      "outputs": [],
      "source": [
        "model = Sequential([\n",
        "    layers.Dense(64,activation='relu'),\n",
        "    layers.Dense(64,activation='relu'),\n",
        "    layers.Dense(46,activation='softmax')\n",
        "])"
      ]
    },
    {
      "cell_type": "code",
      "execution_count": 23,
      "metadata": {
        "id": "ElaEOL2uYpd-"
      },
      "outputs": [],
      "source": [
        "model.compile(optimizer='rmsprop',loss='categorical_crossentropy',metrics=['accuracy'])"
      ]
    },
    {
      "cell_type": "code",
      "execution_count": 24,
      "metadata": {
        "id": "8KgXJQzWYsYM",
        "colab": {
          "base_uri": "https://localhost:8080/"
        },
        "outputId": "c101af22-aabd-45fa-8eed-690cb66edeab"
      },
      "outputs": [
        {
          "output_type": "stream",
          "name": "stdout",
          "text": [
            "Epoch 1/20\n",
            "18/18 [==============================] - 2s 48ms/step - loss: 2.5313 - accuracy: 0.5728\n",
            "Epoch 2/20\n",
            "18/18 [==============================] - 1s 57ms/step - loss: 1.3318 - accuracy: 0.7208\n",
            "Epoch 3/20\n",
            "18/18 [==============================] - 1s 58ms/step - loss: 0.9908 - accuracy: 0.7850\n",
            "Epoch 4/20\n",
            "18/18 [==============================] - 1s 57ms/step - loss: 0.7788 - accuracy: 0.8308\n",
            "Epoch 5/20\n",
            "18/18 [==============================] - 1s 48ms/step - loss: 0.6128 - accuracy: 0.8694\n",
            "Epoch 6/20\n",
            "18/18 [==============================] - 1s 48ms/step - loss: 0.4885 - accuracy: 0.8981\n",
            "Epoch 7/20\n",
            "18/18 [==============================] - 1s 47ms/step - loss: 0.3868 - accuracy: 0.9189\n",
            "Epoch 8/20\n",
            "18/18 [==============================] - 1s 46ms/step - loss: 0.3181 - accuracy: 0.9313\n",
            "Epoch 9/20\n",
            "18/18 [==============================] - 1s 49ms/step - loss: 0.2654 - accuracy: 0.9401\n",
            "Epoch 10/20\n",
            "18/18 [==============================] - 1s 55ms/step - loss: 0.2260 - accuracy: 0.9469\n",
            "Epoch 11/20\n",
            "18/18 [==============================] - 1s 47ms/step - loss: 0.1992 - accuracy: 0.9485\n",
            "Epoch 12/20\n",
            "18/18 [==============================] - 1s 56ms/step - loss: 0.1800 - accuracy: 0.9525\n",
            "Epoch 13/20\n",
            "18/18 [==============================] - 1s 48ms/step - loss: 0.1612 - accuracy: 0.9518\n",
            "Epoch 14/20\n",
            "18/18 [==============================] - 1s 46ms/step - loss: 0.1523 - accuracy: 0.9526\n",
            "Epoch 15/20\n",
            "18/18 [==============================] - 1s 47ms/step - loss: 0.1401 - accuracy: 0.9546\n",
            "Epoch 16/20\n",
            "18/18 [==============================] - 1s 51ms/step - loss: 0.1365 - accuracy: 0.9546\n",
            "Epoch 17/20\n",
            "18/18 [==============================] - 1s 52ms/step - loss: 0.1312 - accuracy: 0.9555\n",
            "Epoch 18/20\n",
            "18/18 [==============================] - 1s 48ms/step - loss: 0.1228 - accuracy: 0.9570\n",
            "Epoch 19/20\n",
            "18/18 [==============================] - 1s 46ms/step - loss: 0.1169 - accuracy: 0.9564\n",
            "Epoch 20/20\n",
            "18/18 [==============================] - 1s 47ms/step - loss: 0.1164 - accuracy: 0.9564\n"
          ]
        },
        {
          "output_type": "execute_result",
          "data": {
            "text/plain": [
              "<keras.callbacks.History at 0x7f32a7b7c3a0>"
            ]
          },
          "metadata": {},
          "execution_count": 24
        }
      ],
      "source": [
        "model.fit(x_train,x_labels,epochs=20,batch_size=512)"
      ]
    },
    {
      "cell_type": "code",
      "source": [
        "result = model.evaluate(x_test,x_labels)"
      ],
      "metadata": {
        "id": "_faConjy5GKX"
      },
      "execution_count": null,
      "outputs": []
    }
  ],
  "metadata": {
    "colab": {
      "provenance": [],
      "authorship_tag": "ABX9TyNhpjDmo29RJOeDKZZYP6M2",
      "include_colab_link": true
    },
    "kernelspec": {
      "display_name": "Python 3",
      "name": "python3"
    },
    "language_info": {
      "name": "python"
    }
  },
  "nbformat": 4,
  "nbformat_minor": 0
}