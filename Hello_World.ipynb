{
  "nbformat": 4,
  "nbformat_minor": 0,
  "metadata": {
    "colab": {
      "provenance": [],
      "authorship_tag": "ABX9TyP/kPQiwAz4rDdiYq2+KHPO",
      "include_colab_link": true
    },
    "kernelspec": {
      "name": "python3",
      "display_name": "Python 3"
    },
    "language_info": {
      "name": "python"
    }
  },
  "cells": [
    {
      "cell_type": "markdown",
      "metadata": {
        "id": "view-in-github",
        "colab_type": "text"
      },
      "source": [
        "<a href=\"https://colab.research.google.com/github/sainisatish/DeepLearningFromScratch/blob/main/Hello_World.ipynb\" target=\"_parent\"><img src=\"https://colab.research.google.com/assets/colab-badge.svg\" alt=\"Open In Colab\"/></a>"
      ]
    },
    {
      "cell_type": "code",
      "execution_count": 17,
      "metadata": {
        "id": "VI3_YTYUA758"
      },
      "outputs": [],
      "source": [
        "import tensorflow as tf\n",
        "import numpy as np"
      ]
    },
    {
      "cell_type": "code",
      "source": [
        "#A quick hello Wolrd program of deep learning"
      ],
      "metadata": {
        "id": "YZYpGG_upH8u"
      },
      "execution_count": 18,
      "outputs": []
    },
    {
      "cell_type": "code",
      "source": [
        "from tensorflow.keras.datasets import mnist"
      ],
      "metadata": {
        "id": "A-uu-sJd6IPd"
      },
      "execution_count": 19,
      "outputs": []
    },
    {
      "cell_type": "code",
      "source": [
        "(train_img,train_labels),(test_img,test_labels) = mnist.load_data()"
      ],
      "metadata": {
        "id": "4icJYSGA6UOH"
      },
      "execution_count": 20,
      "outputs": []
    },
    {
      "cell_type": "code",
      "source": [
        "print(f'train img shape : {train_img.shape} , train_img_labels : {train_labels.shape}')"
      ],
      "metadata": {
        "colab": {
          "base_uri": "https://localhost:8080/"
        },
        "id": "qLx2Mg8_6lBq",
        "outputId": "85473443-dbdf-4cbc-9025-09706f46828c"
      },
      "execution_count": 21,
      "outputs": [
        {
          "output_type": "stream",
          "name": "stdout",
          "text": [
            "train img shape : (60000, 28, 28) , train_img_labels : (60000,)\n"
          ]
        }
      ]
    },
    {
      "cell_type": "code",
      "source": [
        "from tensorflow import keras\n",
        "from tensorflow.keras import layers"
      ],
      "metadata": {
        "id": "v3qEuEsf7DsT"
      },
      "execution_count": 22,
      "outputs": []
    },
    {
      "cell_type": "code",
      "source": [
        "model = keras.Sequential([layers.Dense(512,activation=\"relu\"),\n",
        "                          layers.Dense(10,activation= \"softmax\")])"
      ],
      "metadata": {
        "id": "G7Z2tdU17RVM"
      },
      "execution_count": 23,
      "outputs": []
    },
    {
      "cell_type": "code",
      "source": [
        "model.compile(optimizer=\"rmsprop\",\n",
        "              loss=\"sparse_categorical_crossentropy\",\n",
        "              metrics=[\"accuracy\"])"
      ],
      "metadata": {
        "id": "pWgj7ulF7o_f"
      },
      "execution_count": 24,
      "outputs": []
    },
    {
      "cell_type": "code",
      "source": [
        "train_img = train_img.reshape((60000,28*28))\n",
        "train_img = train_img.astype('float32')/255\n",
        "\n",
        "test_img = test_img.reshape((10000,28*28))\n",
        "test_img = test_img.astype('float32')/255"
      ],
      "metadata": {
        "id": "HTtDje199eg-"
      },
      "execution_count": 25,
      "outputs": []
    },
    {
      "cell_type": "code",
      "source": [
        "model.fit(train_img,train_labels,epochs=5,batch_size=128)"
      ],
      "metadata": {
        "colab": {
          "base_uri": "https://localhost:8080/"
        },
        "id": "iPb7w1Dq7qTc",
        "outputId": "beedb388-12dc-4a46-eb0e-eb64091e0bdd"
      },
      "execution_count": 26,
      "outputs": [
        {
          "output_type": "stream",
          "name": "stdout",
          "text": [
            "Epoch 1/5\n",
            "469/469 [==============================] - 6s 11ms/step - loss: 0.2568 - accuracy: 0.9257\n",
            "Epoch 2/5\n",
            "469/469 [==============================] - 5s 11ms/step - loss: 0.1049 - accuracy: 0.9692\n",
            "Epoch 3/5\n",
            "469/469 [==============================] - 5s 11ms/step - loss: 0.0690 - accuracy: 0.9791\n",
            "Epoch 4/5\n",
            "469/469 [==============================] - 5s 10ms/step - loss: 0.0507 - accuracy: 0.9846\n",
            "Epoch 5/5\n",
            "469/469 [==============================] - 5s 10ms/step - loss: 0.0380 - accuracy: 0.9886\n"
          ]
        },
        {
          "output_type": "execute_result",
          "data": {
            "text/plain": [
              "<keras.callbacks.History at 0x7f76a9555ad0>"
            ]
          },
          "metadata": {},
          "execution_count": 26
        }
      ]
    },
    {
      "cell_type": "code",
      "source": [
        "print(f'test img shape : {test_img.shape} , test_img_labels : {test_labels.shape}')"
      ],
      "metadata": {
        "colab": {
          "base_uri": "https://localhost:8080/"
        },
        "id": "hcAkxP7o88Zw",
        "outputId": "14767a5f-8d58-4b9f-bf18-9cbaa9ce61e1"
      },
      "execution_count": 27,
      "outputs": [
        {
          "output_type": "stream",
          "name": "stdout",
          "text": [
            "test img shape : (10000, 784) , test_img_labels : (10000,)\n"
          ]
        }
      ]
    },
    {
      "cell_type": "code",
      "source": [
        "test = test_img[0:10]"
      ],
      "metadata": {
        "id": "XPazXu3P_stY"
      },
      "execution_count": 28,
      "outputs": []
    },
    {
      "cell_type": "code",
      "source": [
        "test_result = model.predict(test)"
      ],
      "metadata": {
        "colab": {
          "base_uri": "https://localhost:8080/"
        },
        "id": "up32-besBpiU",
        "outputId": "daf6dfc6-57fe-4dc2-ffdb-42098e29dda6"
      },
      "execution_count": 29,
      "outputs": [
        {
          "output_type": "stream",
          "name": "stdout",
          "text": [
            "1/1 [==============================] - 0s 48ms/step\n"
          ]
        }
      ]
    },
    {
      "cell_type": "code",
      "source": [
        "test_result"
      ],
      "metadata": {
        "colab": {
          "base_uri": "https://localhost:8080/"
        },
        "id": "0NYI6BdHCDgp",
        "outputId": "af031a79-8c0f-47f7-f1c3-a8a35dea977c"
      },
      "execution_count": 30,
      "outputs": [
        {
          "output_type": "execute_result",
          "data": {
            "text/plain": [
              "array([[2.5874673e-08, 7.2433387e-10, 2.2465156e-06, 2.7068334e-05,\n",
              "        8.2597202e-12, 2.2069342e-09, 1.1689496e-14, 9.9996954e-01,\n",
              "        1.4963386e-07, 8.8393369e-07],\n",
              "       [7.5208607e-12, 8.4597520e-09, 9.9999994e-01, 1.2850393e-08,\n",
              "        1.9861035e-18, 7.4141790e-09, 2.2234010e-11, 2.4507265e-16,\n",
              "        5.7249729e-09, 5.1503646e-17],\n",
              "       [1.1960118e-07, 9.9939072e-01, 3.5172896e-05, 4.8421734e-06,\n",
              "        5.2276482e-05, 5.1082811e-06, 8.1335429e-06, 1.0956497e-04,\n",
              "        3.9109983e-04, 2.8875859e-06],\n",
              "       [9.9993867e-01, 5.4301635e-10, 2.3519431e-05, 1.2769287e-06,\n",
              "        6.8293389e-08, 4.8787870e-06, 2.1108050e-05, 7.4742916e-06,\n",
              "        1.9609974e-09, 2.9819275e-06],\n",
              "       [2.0433542e-07, 1.3004431e-10, 2.4595231e-06, 4.6434976e-09,\n",
              "        9.9883670e-01, 4.1685735e-07, 4.9874404e-07, 5.2891311e-05,\n",
              "        9.9695887e-07, 1.1057183e-03],\n",
              "       [4.3674142e-10, 9.9990636e-01, 1.2338701e-07, 1.2834869e-07,\n",
              "        9.4781371e-06, 5.4964926e-09, 1.1142255e-08, 7.4184230e-05,\n",
              "        9.4660054e-06, 1.7415712e-07],\n",
              "       [1.1847735e-11, 1.6082193e-08, 9.1301056e-09, 6.4498833e-09,\n",
              "        9.9965250e-01, 2.4458120e-06, 2.9895094e-08, 9.3220824e-06,\n",
              "        3.0860133e-04, 2.7084821e-05],\n",
              "       [1.0068627e-09, 4.9581456e-07, 1.8182131e-05, 7.1301323e-04,\n",
              "        2.3438635e-03, 1.1307774e-05, 7.2905869e-11, 3.1352720e-05,\n",
              "        9.8069006e-07, 9.9688083e-01],\n",
              "       [6.3348708e-11, 2.0535397e-14, 2.0710748e-07, 5.1107513e-10,\n",
              "        7.3851561e-07, 9.9897826e-01, 1.0099150e-03, 2.4501304e-11,\n",
              "        1.0625486e-05, 2.9268347e-07],\n",
              "       [3.1333634e-11, 3.8423594e-11, 1.1878608e-10, 5.3127701e-06,\n",
              "        1.5102146e-03, 2.3885152e-08, 1.9471738e-13, 6.1043334e-04,\n",
              "        2.8933400e-05, 9.9784505e-01]], dtype=float32)"
            ]
          },
          "metadata": {},
          "execution_count": 30
        }
      ]
    },
    {
      "cell_type": "code",
      "source": [
        "test_result[5].argmax()"
      ],
      "metadata": {
        "colab": {
          "base_uri": "https://localhost:8080/"
        },
        "id": "4ZB31ZnTByD8",
        "outputId": "4a1e2c3d-3152-441a-d191-25b089f183ed"
      },
      "execution_count": 31,
      "outputs": [
        {
          "output_type": "execute_result",
          "data": {
            "text/plain": [
              "1"
            ]
          },
          "metadata": {},
          "execution_count": 31
        }
      ]
    },
    {
      "cell_type": "code",
      "source": [
        "test_loss,test_acc = model.evaluate(test_img,test_labels)"
      ],
      "metadata": {
        "id": "20TUFP6yCBwG",
        "colab": {
          "base_uri": "https://localhost:8080/"
        },
        "outputId": "c4b95e91-9d84-4217-c178-5b572413c0f1"
      },
      "execution_count": 32,
      "outputs": [
        {
          "output_type": "stream",
          "name": "stdout",
          "text": [
            "313/313 [==============================] - 1s 4ms/step - loss: 0.0660 - accuracy: 0.9807\n"
          ]
        }
      ]
    },
    {
      "cell_type": "code",
      "source": [
        "print(f\"test Accuracy: { test_acc}\")"
      ],
      "metadata": {
        "colab": {
          "base_uri": "https://localhost:8080/"
        },
        "id": "3MA5Vk0nQbrh",
        "outputId": "72fd5148-1a9f-4482-90b1-e5f3c719fe0b"
      },
      "execution_count": 33,
      "outputs": [
        {
          "output_type": "stream",
          "name": "stdout",
          "text": [
            "test Accuracy: 0.9807000160217285\n"
          ]
        }
      ]
    },
    {
      "cell_type": "code",
      "source": [],
      "metadata": {
        "id": "6rTAbPZmQkHZ"
      },
      "execution_count": null,
      "outputs": []
    }
  ]
}