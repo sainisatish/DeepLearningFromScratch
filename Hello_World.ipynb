{
  "nbformat": 4,
  "nbformat_minor": 0,
  "metadata": {
    "colab": {
      "provenance": [],
      "authorship_tag": "ABX9TyPS5pFGMznpwMSg9sPuPUZ+",
      "include_colab_link": true
    },
    "kernelspec": {
      "name": "python3",
      "display_name": "Python 3"
    },
    "language_info": {
      "name": "python"
    }
  },
  "cells": [
    {
      "cell_type": "markdown",
      "metadata": {
        "id": "view-in-github",
        "colab_type": "text"
      },
      "source": [
        "<a href=\"https://colab.research.google.com/github/sainisatish/DeepLearningFromScratch/blob/main/Hello_World.ipynb\" target=\"_parent\"><img src=\"https://colab.research.google.com/assets/colab-badge.svg\" alt=\"Open In Colab\"/></a>"
      ]
    },
    {
      "cell_type": "code",
      "execution_count": 1,
      "metadata": {
        "id": "VI3_YTYUA758"
      },
      "outputs": [],
      "source": [
        "import tensorflow as tf\n",
        "import numpy as np"
      ]
    },
    {
      "cell_type": "code",
      "source": [
        "#A quick hello Wolrd program of deep learning"
      ],
      "metadata": {
        "id": "YZYpGG_upH8u"
      },
      "execution_count": null,
      "outputs": []
    },
    {
      "cell_type": "code",
      "source": [
        "from tensorflow.keras.datasets import mnist"
      ],
      "metadata": {
        "id": "A-uu-sJd6IPd"
      },
      "execution_count": null,
      "outputs": []
    },
    {
      "cell_type": "code",
      "source": [
        "(train_img,train_labels),(test_img,test_labels) = mnist.load_data()"
      ],
      "metadata": {
        "id": "4icJYSGA6UOH",
        "colab": {
          "base_uri": "https://localhost:8080/"
        },
        "outputId": "da8a64f6-4e19-48c0-b736-2472133895c8"
      },
      "execution_count": null,
      "outputs": [
        {
          "output_type": "stream",
          "name": "stdout",
          "text": [
            "Downloading data from https://storage.googleapis.com/tensorflow/tf-keras-datasets/mnist.npz\n",
            "11490434/11490434 [==============================] - 0s 0us/step\n"
          ]
        }
      ]
    },
    {
      "cell_type": "code",
      "source": [
        "print(f'train img shape : {train_img.shape} , train_img_labels : {train_labels.shape}')"
      ],
      "metadata": {
        "colab": {
          "base_uri": "https://localhost:8080/"
        },
        "id": "qLx2Mg8_6lBq",
        "outputId": "8a7ff962-6524-46c9-9eac-e5e32ab8114f"
      },
      "execution_count": null,
      "outputs": [
        {
          "output_type": "stream",
          "name": "stdout",
          "text": [
            "train img shape : (60000, 28, 28) , train_img_labels : (60000,)\n"
          ]
        }
      ]
    },
    {
      "cell_type": "code",
      "source": [
        "from tensorflow import keras\n",
        "from tensorflow.keras import layers"
      ],
      "metadata": {
        "id": "v3qEuEsf7DsT"
      },
      "execution_count": 2,
      "outputs": []
    },
    {
      "cell_type": "code",
      "source": [
        "model = keras.Sequential([layers.Dense(512,activation=\"relu\"),\n",
        "                          layers.Dense(10,activation= \"softmax\")])"
      ],
      "metadata": {
        "id": "G7Z2tdU17RVM"
      },
      "execution_count": null,
      "outputs": []
    },
    {
      "cell_type": "code",
      "source": [
        "model.compile(optimizer=\"rmsprop\",\n",
        "              loss=\"sparse_categorical_crossentropy\",\n",
        "              metrics=[\"accuracy\"])"
      ],
      "metadata": {
        "id": "pWgj7ulF7o_f"
      },
      "execution_count": null,
      "outputs": []
    },
    {
      "cell_type": "code",
      "source": [
        "train_img = train_img.reshape((60000,28*28))\n",
        "train_img = train_img.astype('float32')/255\n",
        "\n",
        "test_img = test_img.reshape((10000,28*28))\n",
        "test_img = test_img.astype('float32')/255"
      ],
      "metadata": {
        "id": "HTtDje199eg-"
      },
      "execution_count": null,
      "outputs": []
    },
    {
      "cell_type": "code",
      "source": [
        "model.fit(train_img,train_labels,epochs=5,batch_size=128)"
      ],
      "metadata": {
        "colab": {
          "base_uri": "https://localhost:8080/"
        },
        "id": "iPb7w1Dq7qTc",
        "outputId": "53d40308-eb18-4582-d839-6e2f1cd0b3d9"
      },
      "execution_count": null,
      "outputs": [
        {
          "output_type": "stream",
          "name": "stdout",
          "text": [
            "Epoch 1/5\n",
            "469/469 [==============================] - 5s 10ms/step - loss: 0.2596 - accuracy: 0.9252\n",
            "Epoch 2/5\n",
            "469/469 [==============================] - 5s 10ms/step - loss: 0.1033 - accuracy: 0.9693\n",
            "Epoch 3/5\n",
            "469/469 [==============================] - 5s 10ms/step - loss: 0.0679 - accuracy: 0.9798\n",
            "Epoch 4/5\n",
            "469/469 [==============================] - 5s 10ms/step - loss: 0.0484 - accuracy: 0.9852\n",
            "Epoch 5/5\n",
            "469/469 [==============================] - 5s 10ms/step - loss: 0.0360 - accuracy: 0.9887\n"
          ]
        },
        {
          "output_type": "execute_result",
          "data": {
            "text/plain": [
              "<keras.callbacks.History at 0x7fdc52844390>"
            ]
          },
          "metadata": {},
          "execution_count": 12
        }
      ]
    },
    {
      "cell_type": "code",
      "source": [
        "print(f'test img shape : {test_img.shape} , test_img_labels : {test_labels.shape}')"
      ],
      "metadata": {
        "colab": {
          "base_uri": "https://localhost:8080/"
        },
        "id": "hcAkxP7o88Zw",
        "outputId": "c69f12ba-97fa-446c-999a-d7b1d571012b"
      },
      "execution_count": null,
      "outputs": [
        {
          "output_type": "stream",
          "name": "stdout",
          "text": [
            "test img shape : (10000, 784) , test_img_labels : (10000,)\n"
          ]
        }
      ]
    },
    {
      "cell_type": "code",
      "source": [
        "test = test_img[0:10]"
      ],
      "metadata": {
        "id": "XPazXu3P_stY"
      },
      "execution_count": null,
      "outputs": []
    },
    {
      "cell_type": "code",
      "source": [
        "test_result = model.predict(test)"
      ],
      "metadata": {
        "colab": {
          "base_uri": "https://localhost:8080/"
        },
        "id": "up32-besBpiU",
        "outputId": "98e57301-467c-4658-aa4c-7e49f5eff28c"
      },
      "execution_count": null,
      "outputs": [
        {
          "output_type": "stream",
          "name": "stdout",
          "text": [
            "1/1 [==============================] - 0s 75ms/step\n"
          ]
        }
      ]
    },
    {
      "cell_type": "code",
      "source": [
        "  test_result"
      ],
      "metadata": {
        "colab": {
          "base_uri": "https://localhost:8080/"
        },
        "id": "0NYI6BdHCDgp",
        "outputId": "af031a79-8c0f-47f7-f1c3-a8a35dea977c"
      },
      "execution_count": null,
      "outputs": [
        {
          "output_type": "execute_result",
          "data": {
            "text/plain": [
              "array([[2.5874673e-08, 7.2433387e-10, 2.2465156e-06, 2.7068334e-05,\n",
              "        8.2597202e-12, 2.2069342e-09, 1.1689496e-14, 9.9996954e-01,\n",
              "        1.4963386e-07, 8.8393369e-07],\n",
              "       [7.5208607e-12, 8.4597520e-09, 9.9999994e-01, 1.2850393e-08,\n",
              "        1.9861035e-18, 7.4141790e-09, 2.2234010e-11, 2.4507265e-16,\n",
              "        5.7249729e-09, 5.1503646e-17],\n",
              "       [1.1960118e-07, 9.9939072e-01, 3.5172896e-05, 4.8421734e-06,\n",
              "        5.2276482e-05, 5.1082811e-06, 8.1335429e-06, 1.0956497e-04,\n",
              "        3.9109983e-04, 2.8875859e-06],\n",
              "       [9.9993867e-01, 5.4301635e-10, 2.3519431e-05, 1.2769287e-06,\n",
              "        6.8293389e-08, 4.8787870e-06, 2.1108050e-05, 7.4742916e-06,\n",
              "        1.9609974e-09, 2.9819275e-06],\n",
              "       [2.0433542e-07, 1.3004431e-10, 2.4595231e-06, 4.6434976e-09,\n",
              "        9.9883670e-01, 4.1685735e-07, 4.9874404e-07, 5.2891311e-05,\n",
              "        9.9695887e-07, 1.1057183e-03],\n",
              "       [4.3674142e-10, 9.9990636e-01, 1.2338701e-07, 1.2834869e-07,\n",
              "        9.4781371e-06, 5.4964926e-09, 1.1142255e-08, 7.4184230e-05,\n",
              "        9.4660054e-06, 1.7415712e-07],\n",
              "       [1.1847735e-11, 1.6082193e-08, 9.1301056e-09, 6.4498833e-09,\n",
              "        9.9965250e-01, 2.4458120e-06, 2.9895094e-08, 9.3220824e-06,\n",
              "        3.0860133e-04, 2.7084821e-05],\n",
              "       [1.0068627e-09, 4.9581456e-07, 1.8182131e-05, 7.1301323e-04,\n",
              "        2.3438635e-03, 1.1307774e-05, 7.2905869e-11, 3.1352720e-05,\n",
              "        9.8069006e-07, 9.9688083e-01],\n",
              "       [6.3348708e-11, 2.0535397e-14, 2.0710748e-07, 5.1107513e-10,\n",
              "        7.3851561e-07, 9.9897826e-01, 1.0099150e-03, 2.4501304e-11,\n",
              "        1.0625486e-05, 2.9268347e-07],\n",
              "       [3.1333634e-11, 3.8423594e-11, 1.1878608e-10, 5.3127701e-06,\n",
              "        1.5102146e-03, 2.3885152e-08, 1.9471738e-13, 6.1043334e-04,\n",
              "        2.8933400e-05, 9.9784505e-01]], dtype=float32)"
            ]
          },
          "metadata": {},
          "execution_count": 30
        }
      ]
    },
    {
      "cell_type": "code",
      "source": [
        "test_result[5].argmax()"
      ],
      "metadata": {
        "colab": {
          "base_uri": "https://localhost:8080/"
        },
        "id": "4ZB31ZnTByD8",
        "outputId": "4a1e2c3d-3152-441a-d191-25b089f183ed"
      },
      "execution_count": null,
      "outputs": [
        {
          "output_type": "execute_result",
          "data": {
            "text/plain": [
              "1"
            ]
          },
          "metadata": {},
          "execution_count": 31
        }
      ]
    },
    {
      "cell_type": "code",
      "source": [
        "test_loss,test_acc = model.evaluate(test_img,test_labels)"
      ],
      "metadata": {
        "id": "20TUFP6yCBwG",
        "colab": {
          "base_uri": "https://localhost:8080/"
        },
        "outputId": "c4b95e91-9d84-4217-c178-5b572413c0f1"
      },
      "execution_count": null,
      "outputs": [
        {
          "output_type": "stream",
          "name": "stdout",
          "text": [
            "313/313 [==============================] - 1s 4ms/step - loss: 0.0660 - accuracy: 0.9807\n"
          ]
        }
      ]
    },
    {
      "cell_type": "code",
      "source": [
        "print(f\"test Accuracy: { test_acc}\")"
      ],
      "metadata": {
        "colab": {
          "base_uri": "https://localhost:8080/"
        },
        "id": "3MA5Vk0nQbrh",
        "outputId": "72fd5148-1a9f-4482-90b1-e5f3c719fe0b"
      },
      "execution_count": null,
      "outputs": [
        {
          "output_type": "stream",
          "name": "stdout",
          "text": [
            "test Accuracy: 0.9807000160217285\n"
          ]
        }
      ]
    },
    {
      "cell_type": "code",
      "source": [
        "#Now Deep Diving into DL"
      ],
      "metadata": {
        "id": "6rTAbPZmQkHZ"
      },
      "execution_count": null,
      "outputs": []
    },
    {
      "cell_type": "markdown",
      "source": [
        "**Tensor**\n",
        "\n",
        "1-Scalar: a tensor which contain only single number is called as scalar, it have 0 axes so it is rank 0 tensor.\n",
        "\n",
        "2-Vector: a tensor which cotain only array of number is called as vector, it have 1 axes so it is rank 1 tensor.\n",
        "\n",
        "3-Metrics: a tensor which contain only array of vectors is called as metrics, it have 2 axes so it is rank 2 tensor.\n",
        "\n",
        "4-Rank 3 and higher rank tensors: array of metrics.\n",
        "\n",
        "**Attributes**\n",
        "\n",
        "Number of axes\n",
        "\n",
        "Shape\n",
        "\n",
        "Datatype\n",
        "\n",
        "**Note**\n",
        "\n",
        "Model don't process all data in one time , it create batches of images.\n",
        "like we have used bacth_size parameter to "
      ],
      "metadata": {
        "id": "aCFlYvXhSwin"
      }
    },
    {
      "cell_type": "code",
      "source": [
        "# Linear classifier in Tensorflow\n",
        "#first generate two classes\n",
        "\n",
        "sample_per_class = 1000\n",
        "\n",
        "neg_sample = np.random.multivariate_normal(mean=[0,3],\n",
        "                                           cov = [[1,0.5],[0.5,1]],\n",
        "                                           size = sample_per_class)\n",
        "\n",
        "pos_sample = np.random.multivariate_normal(mean=[3,0],\n",
        "                                           cov = [[1,0.5],[0.5,1]],\n",
        "                                           size = sample_per_class)"
      ],
      "metadata": {
        "id": "FU0HgevyzuuG"
      },
      "execution_count": 19,
      "outputs": []
    },
    {
      "cell_type": "code",
      "source": [
        "inputs = np.vstack((neg_sample,pos_sample)).astype('float32')"
      ],
      "metadata": {
        "id": "rSvN13390i1G"
      },
      "execution_count": 20,
      "outputs": []
    },
    {
      "cell_type": "code",
      "source": [
        "targets= np.vstack((np.ones((sample_per_class,1),dtype = 'float32'),np.zeros((sample_per_class,1),dtype = 'float32')))"
      ],
      "metadata": {
        "id": "wy9Ap6WU40EV"
      },
      "execution_count": 21,
      "outputs": []
    },
    {
      "cell_type": "code",
      "source": [
        "x= inputs[:,0]\n",
        "y= inputs[:,1]"
      ],
      "metadata": {
        "id": "u4XLNXdr-zDG"
      },
      "execution_count": 22,
      "outputs": []
    },
    {
      "cell_type": "code",
      "source": [
        "from matplotlib import pyplot as plt"
      ],
      "metadata": {
        "id": "Aqtz0L6k5MVT"
      },
      "execution_count": 8,
      "outputs": []
    },
    {
      "cell_type": "code",
      "source": [
        "plt.scatter(x,y,c=targets[:,0])\n",
        "plt.show()"
      ],
      "metadata": {
        "colab": {
          "base_uri": "https://localhost:8080/",
          "height": 265
        },
        "id": "Q8iTuDKJ6k7r",
        "outputId": "a5941179-a6d5-40e0-e32b-183380dc7b66"
      },
      "execution_count": 23,
      "outputs": [
        {
          "output_type": "display_data",
          "data": {
            "text/plain": [
              "<Figure size 432x288 with 1 Axes>"
            ],
            "image/png": "[encoded data removed]"
          },
          "metadata": {
            "needs_background": "light"
          }
        }
      ]
    },
    {
      "cell_type": "code",
      "source": [
        "#We All Know Below Equations\n",
        "#PREDICTION = W.X+B\n",
        "#y = mx+c"
      ],
      "metadata": {
        "id": "4fyEvoM8_IXq"
      },
      "execution_count": null,
      "outputs": []
    },
    {
      "cell_type": "code",
      "source": [
        "input_dim = 2\n",
        "output_dim = 1"
      ],
      "metadata": {
        "id": "04CuR1vI_s71"
      },
      "execution_count": 24,
      "outputs": []
    },
    {
      "cell_type": "code",
      "source": [
        "w = tf.Variable(initial_value=tf.random.uniform(shape=(input_dim,output_dim)))\n",
        "b = tf.Variable(initial_value=tf.zeros(shape=output_dim))"
      ],
      "metadata": {
        "id": "531ptFqe_9E3"
      },
      "execution_count": 11,
      "outputs": []
    },
    {
      "cell_type": "code",
      "source": [
        "def model(inputs):\n",
        "    return tf.matmul(inputs,w)+b"
      ],
      "metadata": {
        "id": "6rRGf_bCAg_0"
      },
      "execution_count": 12,
      "outputs": []
    },
    {
      "cell_type": "code",
      "source": [
        "def square_loss(targets,prediction):\n",
        "    per_sample_loss = tf.square(targets - prediction)\n",
        "    return tf.reduce_mean(per_sample_loss)\n"
      ],
      "metadata": {
        "id": "YrXgL2YSA0Rl"
      },
      "execution_count": 16,
      "outputs": []
    },
    {
      "cell_type": "code",
      "source": [
        "learning_rate = 0.1\n",
        "def training_step(inputs,targets):\n",
        "    with tf.GradientTape() as tape:\n",
        "        prediction = model(inputs)\n",
        "        loss = square_loss(targets,prediction)\n",
        "\n",
        "    gradient_loss_wrt_w, gradient_loss_wrt_b = tape.gradient(loss, [w,b])\n",
        "    w.assign_sub(gradient_loss_wrt_w*learning_rate)\n",
        "    b.assign_sub(gradient_loss_wrt_b*learning_rate)\n",
        "    return loss\n"
      ],
      "metadata": {
        "id": "T3-Vkf73LVhX"
      },
      "execution_count": 17,
      "outputs": []
    },
    {
      "cell_type": "code",
      "source": [
        "for step in range(40):\n",
        "    loss = training_step(inputs, targets)\n",
        "    print(f\"Loss at step {step}: {loss:.4f}\")"
      ],
      "metadata": {
        "colab": {
          "base_uri": "https://localhost:8080/"
        },
        "id": "ks9bPHveMytk",
        "outputId": "a5bbd4bf-3f78-45dc-9f0a-e5f034847138"
      },
      "execution_count": 18,
      "outputs": [
        {
          "output_type": "stream",
          "name": "stdout",
          "text": [
            "Loss at step 0: 3.9409\n",
            "Loss at step 1: 0.3189\n",
            "Loss at step 2: 0.1438\n",
            "Loss at step 3: 0.1183\n",
            "Loss at step 4: 0.1086\n",
            "Loss at step 5: 0.1011\n",
            "Loss at step 6: 0.0944\n",
            "Loss at step 7: 0.0883\n",
            "Loss at step 8: 0.0828\n",
            "Loss at step 9: 0.0777\n",
            "Loss at step 10: 0.0731\n",
            "Loss at step 11: 0.0689\n",
            "Loss at step 12: 0.0651\n",
            "Loss at step 13: 0.0616\n",
            "Loss at step 14: 0.0584\n",
            "Loss at step 15: 0.0556\n",
            "Loss at step 16: 0.0529\n",
            "Loss at step 17: 0.0505\n",
            "Loss at step 18: 0.0483\n",
            "Loss at step 19: 0.0463\n",
            "Loss at step 20: 0.0445\n",
            "Loss at step 21: 0.0429\n",
            "Loss at step 22: 0.0413\n",
            "Loss at step 23: 0.0400\n",
            "Loss at step 24: 0.0387\n",
            "Loss at step 25: 0.0376\n",
            "Loss at step 26: 0.0365\n",
            "Loss at step 27: 0.0356\n",
            "Loss at step 28: 0.0347\n",
            "Loss at step 29: 0.0339\n",
            "Loss at step 30: 0.0332\n",
            "Loss at step 31: 0.0326\n",
            "Loss at step 32: 0.0320\n",
            "Loss at step 33: 0.0314\n",
            "Loss at step 34: 0.0309\n",
            "Loss at step 35: 0.0305\n",
            "Loss at step 36: 0.0301\n",
            "Loss at step 37: 0.0297\n",
            "Loss at step 38: 0.0294\n",
            "Loss at step 39: 0.0291\n"
          ]
        }
      ]
    },
    {
      "cell_type": "code",
      "source": [],
      "metadata": {
        "id": "XZlbwdM3NEKU"
      },
      "execution_count": null,
      "outputs": []
    }
  ]
}